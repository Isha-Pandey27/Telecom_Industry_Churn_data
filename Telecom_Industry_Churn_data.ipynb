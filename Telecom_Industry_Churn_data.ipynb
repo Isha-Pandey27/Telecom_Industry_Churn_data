{
 "cells": [
  {
   "cell_type": "markdown",
   "metadata": {},
   "source": [
    "### Telecom_Industry_case study"
   ]
  },
  {
   "cell_type": "code",
   "execution_count": 1,
   "metadata": {},
   "outputs": [],
   "source": [
    "import pandas as pd\n",
    "import numpy as np\n",
    "import matplotlib.pyplot as plt\n",
    "import seaborn as sns\n",
    "%matplotlib inline\n",
    "\n",
    "import warnings\n",
    "warnings.filterwarnings('ignore')"
   ]
  },
  {
   "cell_type": "code",
   "execution_count": 2,
   "metadata": {},
   "outputs": [
    {
     "data": {
      "text/html": [
       "<div>\n",
       "<style scoped>\n",
       "    .dataframe tbody tr th:only-of-type {\n",
       "        vertical-align: middle;\n",
       "    }\n",
       "\n",
       "    .dataframe tbody tr th {\n",
       "        vertical-align: top;\n",
       "    }\n",
       "\n",
       "    .dataframe thead th {\n",
       "        text-align: right;\n",
       "    }\n",
       "</style>\n",
       "<table border=\"1\" class=\"dataframe\">\n",
       "  <thead>\n",
       "    <tr style=\"text-align: right;\">\n",
       "      <th></th>\n",
       "      <th>Churn</th>\n",
       "      <th>AccountWeeks</th>\n",
       "      <th>ContractRenewal</th>\n",
       "      <th>DataPlan</th>\n",
       "      <th>DataUsage</th>\n",
       "      <th>CustServCalls</th>\n",
       "      <th>DayMins</th>\n",
       "      <th>DayCalls</th>\n",
       "      <th>MonthlyCharge</th>\n",
       "      <th>OverageFee</th>\n",
       "      <th>RoamMins</th>\n",
       "    </tr>\n",
       "  </thead>\n",
       "  <tbody>\n",
       "    <tr>\n",
       "      <th>0</th>\n",
       "      <td>0</td>\n",
       "      <td>128</td>\n",
       "      <td>1</td>\n",
       "      <td>1</td>\n",
       "      <td>2.7</td>\n",
       "      <td>1</td>\n",
       "      <td>265.1</td>\n",
       "      <td>110</td>\n",
       "      <td>89.0</td>\n",
       "      <td>9.87</td>\n",
       "      <td>10.0</td>\n",
       "    </tr>\n",
       "    <tr>\n",
       "      <th>1</th>\n",
       "      <td>0</td>\n",
       "      <td>107</td>\n",
       "      <td>1</td>\n",
       "      <td>1</td>\n",
       "      <td>3.7</td>\n",
       "      <td>1</td>\n",
       "      <td>161.6</td>\n",
       "      <td>123</td>\n",
       "      <td>82.0</td>\n",
       "      <td>9.78</td>\n",
       "      <td>13.7</td>\n",
       "    </tr>\n",
       "    <tr>\n",
       "      <th>2</th>\n",
       "      <td>0</td>\n",
       "      <td>137</td>\n",
       "      <td>1</td>\n",
       "      <td>0</td>\n",
       "      <td>0.0</td>\n",
       "      <td>0</td>\n",
       "      <td>243.4</td>\n",
       "      <td>114</td>\n",
       "      <td>52.0</td>\n",
       "      <td>6.06</td>\n",
       "      <td>12.2</td>\n",
       "    </tr>\n",
       "    <tr>\n",
       "      <th>3</th>\n",
       "      <td>0</td>\n",
       "      <td>84</td>\n",
       "      <td>0</td>\n",
       "      <td>0</td>\n",
       "      <td>0.0</td>\n",
       "      <td>2</td>\n",
       "      <td>299.4</td>\n",
       "      <td>71</td>\n",
       "      <td>57.0</td>\n",
       "      <td>3.10</td>\n",
       "      <td>6.6</td>\n",
       "    </tr>\n",
       "    <tr>\n",
       "      <th>4</th>\n",
       "      <td>0</td>\n",
       "      <td>75</td>\n",
       "      <td>0</td>\n",
       "      <td>0</td>\n",
       "      <td>0.0</td>\n",
       "      <td>3</td>\n",
       "      <td>166.7</td>\n",
       "      <td>113</td>\n",
       "      <td>41.0</td>\n",
       "      <td>7.42</td>\n",
       "      <td>10.1</td>\n",
       "    </tr>\n",
       "  </tbody>\n",
       "</table>\n",
       "</div>"
      ],
      "text/plain": [
       "   Churn  AccountWeeks  ContractRenewal  DataPlan  DataUsage  CustServCalls  \\\n",
       "0      0           128                1         1        2.7              1   \n",
       "1      0           107                1         1        3.7              1   \n",
       "2      0           137                1         0        0.0              0   \n",
       "3      0            84                0         0        0.0              2   \n",
       "4      0            75                0         0        0.0              3   \n",
       "\n",
       "   DayMins  DayCalls  MonthlyCharge  OverageFee  RoamMins  \n",
       "0    265.1       110           89.0        9.87      10.0  \n",
       "1    161.6       123           82.0        9.78      13.7  \n",
       "2    243.4       114           52.0        6.06      12.2  \n",
       "3    299.4        71           57.0        3.10       6.6  \n",
       "4    166.7       113           41.0        7.42      10.1  "
      ]
     },
     "execution_count": 2,
     "metadata": {},
     "output_type": "execute_result"
    }
   ],
   "source": [
    "df = pd.read_csv('G:\\GL_data_science\\Case Study\\CSV Files\\Telecom_Industry.csv')\n",
    "df.head()"
   ]
  },
  {
   "cell_type": "markdown",
   "metadata": {},
   "source": [
    "Here we see that the target variable is 'Churn'"
   ]
  },
  {
   "cell_type": "code",
   "execution_count": 3,
   "metadata": {},
   "outputs": [
    {
     "name": "stdout",
     "output_type": "stream",
     "text": [
      "No. of Rows: 3333\n",
      "No. of Columns: 11\n"
     ]
    }
   ],
   "source": [
    "print('No. of Rows:',df.shape[0])\n",
    "print('No. of Columns:',df.shape[1])\n",
    "df_shape = df.shape[0]"
   ]
  },
  {
   "cell_type": "code",
   "execution_count": 4,
   "metadata": {},
   "outputs": [
    {
     "name": "stdout",
     "output_type": "stream",
     "text": [
      "<class 'pandas.core.frame.DataFrame'>\n",
      "RangeIndex: 3333 entries, 0 to 3332\n",
      "Data columns (total 11 columns):\n",
      "Churn              3333 non-null int64\n",
      "AccountWeeks       3333 non-null int64\n",
      "ContractRenewal    3333 non-null int64\n",
      "DataPlan           3333 non-null int64\n",
      "DataUsage          3333 non-null float64\n",
      "CustServCalls      3333 non-null int64\n",
      "DayMins            3333 non-null float64\n",
      "DayCalls           3333 non-null int64\n",
      "MonthlyCharge      3333 non-null float64\n",
      "OverageFee         3333 non-null float64\n",
      "RoamMins           3331 non-null float64\n",
      "dtypes: float64(5), int64(6)\n",
      "memory usage: 286.5 KB\n"
     ]
    }
   ],
   "source": [
    "df.info()"
   ]
  },
  {
   "cell_type": "markdown",
   "metadata": {},
   "source": [
    "### EDA"
   ]
  },
  {
   "cell_type": "code",
   "execution_count": 5,
   "metadata": {},
   "outputs": [
    {
     "data": {
      "text/plain": [
       "2"
      ]
     },
     "execution_count": 5,
     "metadata": {},
     "output_type": "execute_result"
    }
   ],
   "source": [
    "df.RoamMins.isna().sum()"
   ]
  },
  {
   "cell_type": "markdown",
   "metadata": {},
   "source": [
    "There are two null values in 'RoamMins', as this is a numerical variable, thus we can fill the null value with median."
   ]
  },
  {
   "cell_type": "code",
   "execution_count": 6,
   "metadata": {},
   "outputs": [],
   "source": [
    "df.RoamMins.fillna(value = df.RoamMins.median(), inplace=True)"
   ]
  },
  {
   "cell_type": "code",
   "execution_count": 7,
   "metadata": {},
   "outputs": [
    {
     "data": {
      "text/plain": [
       "0"
      ]
     },
     "execution_count": 7,
     "metadata": {},
     "output_type": "execute_result"
    }
   ],
   "source": [
    "df.RoamMins.isna().sum()"
   ]
  },
  {
   "cell_type": "code",
   "execution_count": 8,
   "metadata": {},
   "outputs": [
    {
     "data": {
      "text/plain": [
       "Churn              0\n",
       "AccountWeeks       0\n",
       "ContractRenewal    0\n",
       "DataPlan           0\n",
       "DataUsage          0\n",
       "CustServCalls      0\n",
       "DayMins            0\n",
       "DayCalls           0\n",
       "MonthlyCharge      0\n",
       "OverageFee         0\n",
       "RoamMins           0\n",
       "dtype: int64"
      ]
     },
     "execution_count": 8,
     "metadata": {},
     "output_type": "execute_result"
    }
   ],
   "source": [
    "df.isnull().sum()"
   ]
  },
  {
   "cell_type": "markdown",
   "metadata": {},
   "source": [
    "Now, no null value in dataset."
   ]
  },
  {
   "cell_type": "markdown",
   "metadata": {},
   "source": [
    "**Checking for Categorical & Numerical variables**"
   ]
  },
  {
   "cell_type": "code",
   "execution_count": 9,
   "metadata": {},
   "outputs": [
    {
     "name": "stdout",
     "output_type": "stream",
     "text": [
      "0    2850\n",
      "1     483\n",
      "Name: Churn, dtype: int64\n",
      "105    43\n",
      "87     42\n",
      "93     40\n",
      "101    40\n",
      "90     39\n",
      "86     38\n",
      "95     38\n",
      "116    37\n",
      "100    37\n",
      "112    36\n",
      "107    36\n",
      "99     36\n",
      "120    35\n",
      "127    35\n",
      "123    35\n",
      "106    34\n",
      "122    34\n",
      "88     34\n",
      "103    33\n",
      "80     33\n",
      "92     33\n",
      "94     33\n",
      "98     32\n",
      "74     32\n",
      "119    32\n",
      "117    32\n",
      "73     32\n",
      "75     32\n",
      "64     32\n",
      "113    32\n",
      "       ..\n",
      "9       3\n",
      "7       2\n",
      "204     2\n",
      "186     2\n",
      "210     2\n",
      "212     2\n",
      "195     2\n",
      "224     2\n",
      "196     2\n",
      "18      2\n",
      "205     2\n",
      "225     2\n",
      "6       2\n",
      "217     2\n",
      "8       1\n",
      "4       1\n",
      "26      1\n",
      "243     1\n",
      "188     1\n",
      "200     1\n",
      "202     1\n",
      "208     1\n",
      "232     1\n",
      "5       1\n",
      "175     1\n",
      "191     1\n",
      "199     1\n",
      "215     1\n",
      "221     1\n",
      "2       1\n",
      "Name: AccountWeeks, Length: 212, dtype: int64\n",
      "1    3010\n",
      "0     323\n",
      "Name: ContractRenewal, dtype: int64\n",
      "0    2411\n",
      "1     922\n",
      "Name: DataPlan, dtype: int64\n",
      "0.00    1813\n",
      "0.31      41\n",
      "0.21      39\n",
      "0.29      36\n",
      "0.26      34\n",
      "0.33      32\n",
      "0.32      30\n",
      "0.30      29\n",
      "0.28      29\n",
      "0.27      27\n",
      "0.34      25\n",
      "0.24      24\n",
      "0.35      23\n",
      "0.23      22\n",
      "2.57      21\n",
      "3.00      20\n",
      "0.25      19\n",
      "3.05      19\n",
      "2.70      19\n",
      "0.36      18\n",
      "0.38      17\n",
      "3.11      16\n",
      "0.42      16\n",
      "3.08      16\n",
      "2.86      16\n",
      "3.32      14\n",
      "0.20      14\n",
      "2.75      14\n",
      "0.39      14\n",
      "3.13      13\n",
      "        ... \n",
      "4.46       2\n",
      "1.22       2\n",
      "4.19       2\n",
      "1.19       2\n",
      "1.03       2\n",
      "1.38       2\n",
      "0.11       2\n",
      "1.32       2\n",
      "0.51       2\n",
      "1.43       2\n",
      "4.73       1\n",
      "4.13       1\n",
      "0.78       1\n",
      "4.29       1\n",
      "1.40       1\n",
      "0.65       1\n",
      "4.59       1\n",
      "4.02       1\n",
      "4.75       1\n",
      "1.27       1\n",
      "0.68       1\n",
      "4.24       1\n",
      "5.40       1\n",
      "4.40       1\n",
      "1.49       1\n",
      "0.46       1\n",
      "4.64       1\n",
      "0.47       1\n",
      "1.05       1\n",
      "4.48       1\n",
      "Name: DataUsage, Length: 174, dtype: int64\n",
      "1    1181\n",
      "2     759\n",
      "0     697\n",
      "3     429\n",
      "4     166\n",
      "5      66\n",
      "6      22\n",
      "7       9\n",
      "9       2\n",
      "8       2\n",
      "Name: CustServCalls, dtype: int64\n",
      "174.5    8\n",
      "159.5    8\n",
      "154.0    8\n",
      "175.4    7\n",
      "162.3    7\n",
      "183.4    7\n",
      "198.4    6\n",
      "185.0    6\n",
      "153.5    6\n",
      "155.2    6\n",
      "184.5    6\n",
      "215.6    6\n",
      "168.6    6\n",
      "194.8    6\n",
      "170.5    6\n",
      "146.3    6\n",
      "167.8    6\n",
      "178.7    6\n",
      "157.1    6\n",
      "142.3    6\n",
      "189.3    6\n",
      "206.9    6\n",
      "206.2    6\n",
      "203.4    6\n",
      "189.8    6\n",
      "216.0    6\n",
      "227.4    6\n",
      "197.0    6\n",
      "181.5    6\n",
      "150.0    6\n",
      "        ..\n",
      "258.0    1\n",
      "130.0    1\n",
      "80.2     1\n",
      "202.2    1\n",
      "212.4    1\n",
      "118.6    1\n",
      "120.7    1\n",
      "84.7     1\n",
      "180.2    1\n",
      "270.3    1\n",
      "127.4    1\n",
      "232.9    1\n",
      "102.1    1\n",
      "228.4    1\n",
      "145.9    1\n",
      "114.1    1\n",
      "266.9    1\n",
      "162.4    1\n",
      "88.1     1\n",
      "271.7    1\n",
      "62.4     1\n",
      "96.1     1\n",
      "54.7     1\n",
      "145.3    1\n",
      "248.9    1\n",
      "199.9    1\n",
      "105.8    1\n",
      "125.6    1\n",
      "179.8    1\n",
      "270.8    1\n",
      "Name: DayMins, Length: 1667, dtype: int64\n",
      "102    78\n",
      "105    75\n",
      "107    69\n",
      "95     69\n",
      "104    68\n",
      "108    67\n",
      "97     67\n",
      "110    66\n",
      "106    66\n",
      "88     66\n",
      "112    66\n",
      "101    65\n",
      "100    65\n",
      "96     65\n",
      "92     64\n",
      "98     63\n",
      "99     62\n",
      "91     61\n",
      "94     60\n",
      "93     59\n",
      "114    57\n",
      "117    57\n",
      "89     56\n",
      "109    55\n",
      "103    53\n",
      "90     53\n",
      "87     51\n",
      "115    51\n",
      "113    50\n",
      "85     49\n",
      "       ..\n",
      "150     6\n",
      "147     6\n",
      "148     5\n",
      "146     5\n",
      "144     5\n",
      "142     5\n",
      "151     5\n",
      "64      5\n",
      "158     3\n",
      "52      3\n",
      "45      3\n",
      "48      3\n",
      "44      3\n",
      "53      3\n",
      "51      3\n",
      "42      2\n",
      "40      2\n",
      "0       2\n",
      "47      2\n",
      "49      2\n",
      "152     1\n",
      "156     1\n",
      "163     1\n",
      "160     1\n",
      "35      1\n",
      "149     1\n",
      "157     1\n",
      "36      1\n",
      "30      1\n",
      "165     1\n",
      "Name: DayCalls, Length: 119, dtype: int64\n",
      "50.0    84\n",
      "46.0    75\n",
      "45.0    74\n",
      "49.0    73\n",
      "54.0    72\n",
      "51.0    71\n",
      "48.0    68\n",
      "53.0    66\n",
      "47.0    65\n",
      "44.0    62\n",
      "52.0    61\n",
      "41.0    60\n",
      "42.0    58\n",
      "56.0    57\n",
      "55.0    54\n",
      "40.0    54\n",
      "43.0    53\n",
      "57.0    52\n",
      "38.0    51\n",
      "39.0    49\n",
      "58.0    44\n",
      "37.0    41\n",
      "60.0    37\n",
      "61.0    35\n",
      "36.0    34\n",
      "59.0    33\n",
      "35.0    33\n",
      "63.0    31\n",
      "65.0    30\n",
      "64.0    28\n",
      "        ..\n",
      "36.3     1\n",
      "86.2     1\n",
      "39.5     1\n",
      "49.6     1\n",
      "95.9     1\n",
      "38.5     1\n",
      "40.3     1\n",
      "45.5     1\n",
      "83.0     1\n",
      "42.5     1\n",
      "87.0     1\n",
      "40.8     1\n",
      "47.7     1\n",
      "36.1     1\n",
      "83.2     1\n",
      "49.9     1\n",
      "91.9     1\n",
      "69.9     1\n",
      "86.7     1\n",
      "87.5     1\n",
      "95.5     1\n",
      "96.5     1\n",
      "41.9     1\n",
      "77.4     1\n",
      "57.6     1\n",
      "77.8     1\n",
      "80.7     1\n",
      "69.6     1\n",
      "37.2     1\n",
      "31.4     1\n",
      "Name: MonthlyCharge, Length: 627, dtype: int64\n",
      "8.50     13\n",
      "8.09     11\n",
      "10.19    11\n",
      "8.36     11\n",
      "10.05    10\n",
      "10.59    10\n",
      "10.47    10\n",
      "9.03     10\n",
      "8.80     10\n",
      "10.26    10\n",
      "8.39     10\n",
      "9.88      9\n",
      "8.13      9\n",
      "12.33     9\n",
      "8.40      9\n",
      "10.58     9\n",
      "9.78      9\n",
      "10.83     9\n",
      "8.76      9\n",
      "11.84     9\n",
      "10.85     9\n",
      "11.21     9\n",
      "9.00      9\n",
      "9.79      9\n",
      "10.35     9\n",
      "11.03     9\n",
      "8.23      8\n",
      "9.49      8\n",
      "10.38     8\n",
      "9.87      8\n",
      "         ..\n",
      "12.37     1\n",
      "11.96     1\n",
      "15.86     1\n",
      "3.66      1\n",
      "14.05     1\n",
      "2.20      1\n",
      "14.59     1\n",
      "13.06     1\n",
      "5.43      1\n",
      "17.71     1\n",
      "13.88     1\n",
      "17.55     1\n",
      "17.58     1\n",
      "11.46     1\n",
      "13.31     1\n",
      "9.26      1\n",
      "13.95     1\n",
      "13.92     1\n",
      "6.33      1\n",
      "11.32     1\n",
      "16.47     1\n",
      "5.52      1\n",
      "14.80     1\n",
      "17.53     1\n",
      "3.86      1\n",
      "14.89     1\n",
      "14.07     1\n",
      "14.84     1\n",
      "6.31      1\n",
      "5.25      1\n",
      "Name: OverageFee, Length: 1024, dtype: int64\n",
      "10.0    61\n",
      "11.3    59\n",
      "9.8     56\n",
      "10.9    56\n",
      "10.1    53\n",
      "10.2    53\n",
      "10.6    53\n",
      "11.1    52\n",
      "11.0    52\n",
      "9.5     51\n",
      "11.4    51\n",
      "9.7     51\n",
      "11.5    50\n",
      "10.5    49\n",
      "11.8    48\n",
      "8.9     48\n",
      "10.3    47\n",
      "11.6    47\n",
      "11.2    46\n",
      "9.9     46\n",
      "10.7    46\n",
      "8.8     45\n",
      "9.1     45\n",
      "9.2     45\n",
      "12.0    44\n",
      "9.4     44\n",
      "9.6     43\n",
      "10.8    41\n",
      "12.2    40\n",
      "9.0     39\n",
      "        ..\n",
      "16.7     3\n",
      "17.3     3\n",
      "16.3     2\n",
      "18.2     2\n",
      "16.6     2\n",
      "3.3      2\n",
      "2.1      2\n",
      "2.9      2\n",
      "17.8     2\n",
      "17.6     2\n",
      "4.0      2\n",
      "3.9      2\n",
      "2.0      2\n",
      "3.6      2\n",
      "3.4      1\n",
      "17.2     1\n",
      "2.4      1\n",
      "20.0     1\n",
      "17.9     1\n",
      "17.1     1\n",
      "2.5      1\n",
      "1.1      1\n",
      "18.3     1\n",
      "2.2      1\n",
      "18.4     1\n",
      "18.9     1\n",
      "1.3      1\n",
      "2.7      1\n",
      "2.6      1\n",
      "3.1      1\n",
      "Name: RoamMins, Length: 162, dtype: int64\n"
     ]
    }
   ],
   "source": [
    "for i in df.columns:\n",
    "    print(df[i].value_counts())"
   ]
  },
  {
   "cell_type": "markdown",
   "metadata": {},
   "source": [
    "**Categorical = Churn, ContractRenewal, DataPlan, CustServCalls**\n",
    "**Numerical = AccountWeeks, DataUsage, DayMins, DayCalls, MonthlyCharge, OverageFee, RoamMins**"
   ]
  },
  {
   "cell_type": "code",
   "execution_count": 10,
   "metadata": {},
   "outputs": [],
   "source": [
    "# Converting the data type of categorical variables to 'category'\n",
    "df[['Churn', 'ContractRenewal', 'DataPlan', 'CustServCalls']]=df[['Churn', 'ContractRenewal', 'DataPlan', 'CustServCalls']].astype('category')"
   ]
  },
  {
   "cell_type": "code",
   "execution_count": 11,
   "metadata": {},
   "outputs": [
    {
     "data": {
      "text/plain": [
       "Churn              category\n",
       "AccountWeeks          int64\n",
       "ContractRenewal    category\n",
       "DataPlan           category\n",
       "DataUsage           float64\n",
       "CustServCalls      category\n",
       "DayMins             float64\n",
       "DayCalls              int64\n",
       "MonthlyCharge       float64\n",
       "OverageFee          float64\n",
       "RoamMins            float64\n",
       "dtype: object"
      ]
     },
     "execution_count": 11,
     "metadata": {},
     "output_type": "execute_result"
    }
   ],
   "source": [
    "df.dtypes"
   ]
  },
  {
   "cell_type": "code",
   "execution_count": 12,
   "metadata": {},
   "outputs": [
    {
     "data": {
      "text/html": [
       "<div>\n",
       "<style scoped>\n",
       "    .dataframe tbody tr th:only-of-type {\n",
       "        vertical-align: middle;\n",
       "    }\n",
       "\n",
       "    .dataframe tbody tr th {\n",
       "        vertical-align: top;\n",
       "    }\n",
       "\n",
       "    .dataframe thead th {\n",
       "        text-align: right;\n",
       "    }\n",
       "</style>\n",
       "<table border=\"1\" class=\"dataframe\">\n",
       "  <thead>\n",
       "    <tr style=\"text-align: right;\">\n",
       "      <th></th>\n",
       "      <th>AccountWeeks</th>\n",
       "      <th>DataUsage</th>\n",
       "      <th>DayMins</th>\n",
       "      <th>DayCalls</th>\n",
       "      <th>MonthlyCharge</th>\n",
       "      <th>OverageFee</th>\n",
       "      <th>RoamMins</th>\n",
       "    </tr>\n",
       "  </thead>\n",
       "  <tbody>\n",
       "    <tr>\n",
       "      <th>count</th>\n",
       "      <td>3333.000000</td>\n",
       "      <td>3333.000000</td>\n",
       "      <td>3333.000000</td>\n",
       "      <td>3333.000000</td>\n",
       "      <td>3333.000000</td>\n",
       "      <td>3333.000000</td>\n",
       "      <td>3333.000000</td>\n",
       "    </tr>\n",
       "    <tr>\n",
       "      <th>mean</th>\n",
       "      <td>101.064806</td>\n",
       "      <td>0.816475</td>\n",
       "      <td>179.775098</td>\n",
       "      <td>100.435644</td>\n",
       "      <td>56.305161</td>\n",
       "      <td>10.051488</td>\n",
       "      <td>10.237384</td>\n",
       "    </tr>\n",
       "    <tr>\n",
       "      <th>std</th>\n",
       "      <td>39.822106</td>\n",
       "      <td>1.272668</td>\n",
       "      <td>54.467389</td>\n",
       "      <td>20.069084</td>\n",
       "      <td>16.426032</td>\n",
       "      <td>2.535712</td>\n",
       "      <td>2.791837</td>\n",
       "    </tr>\n",
       "    <tr>\n",
       "      <th>min</th>\n",
       "      <td>1.000000</td>\n",
       "      <td>0.000000</td>\n",
       "      <td>0.000000</td>\n",
       "      <td>0.000000</td>\n",
       "      <td>14.000000</td>\n",
       "      <td>0.000000</td>\n",
       "      <td>0.000000</td>\n",
       "    </tr>\n",
       "    <tr>\n",
       "      <th>25%</th>\n",
       "      <td>74.000000</td>\n",
       "      <td>0.000000</td>\n",
       "      <td>143.700000</td>\n",
       "      <td>87.000000</td>\n",
       "      <td>45.000000</td>\n",
       "      <td>8.330000</td>\n",
       "      <td>8.500000</td>\n",
       "    </tr>\n",
       "    <tr>\n",
       "      <th>50%</th>\n",
       "      <td>101.000000</td>\n",
       "      <td>0.000000</td>\n",
       "      <td>179.400000</td>\n",
       "      <td>101.000000</td>\n",
       "      <td>53.500000</td>\n",
       "      <td>10.070000</td>\n",
       "      <td>10.300000</td>\n",
       "    </tr>\n",
       "    <tr>\n",
       "      <th>75%</th>\n",
       "      <td>127.000000</td>\n",
       "      <td>1.780000</td>\n",
       "      <td>216.400000</td>\n",
       "      <td>114.000000</td>\n",
       "      <td>66.200000</td>\n",
       "      <td>11.770000</td>\n",
       "      <td>12.100000</td>\n",
       "    </tr>\n",
       "    <tr>\n",
       "      <th>max</th>\n",
       "      <td>243.000000</td>\n",
       "      <td>5.400000</td>\n",
       "      <td>350.800000</td>\n",
       "      <td>165.000000</td>\n",
       "      <td>111.300000</td>\n",
       "      <td>18.190000</td>\n",
       "      <td>20.000000</td>\n",
       "    </tr>\n",
       "  </tbody>\n",
       "</table>\n",
       "</div>"
      ],
      "text/plain": [
       "       AccountWeeks    DataUsage      DayMins     DayCalls  MonthlyCharge  \\\n",
       "count   3333.000000  3333.000000  3333.000000  3333.000000    3333.000000   \n",
       "mean     101.064806     0.816475   179.775098   100.435644      56.305161   \n",
       "std       39.822106     1.272668    54.467389    20.069084      16.426032   \n",
       "min        1.000000     0.000000     0.000000     0.000000      14.000000   \n",
       "25%       74.000000     0.000000   143.700000    87.000000      45.000000   \n",
       "50%      101.000000     0.000000   179.400000   101.000000      53.500000   \n",
       "75%      127.000000     1.780000   216.400000   114.000000      66.200000   \n",
       "max      243.000000     5.400000   350.800000   165.000000     111.300000   \n",
       "\n",
       "        OverageFee     RoamMins  \n",
       "count  3333.000000  3333.000000  \n",
       "mean     10.051488    10.237384  \n",
       "std       2.535712     2.791837  \n",
       "min       0.000000     0.000000  \n",
       "25%       8.330000     8.500000  \n",
       "50%      10.070000    10.300000  \n",
       "75%      11.770000    12.100000  \n",
       "max      18.190000    20.000000  "
      ]
     },
     "execution_count": 12,
     "metadata": {},
     "output_type": "execute_result"
    }
   ],
   "source": [
    "# 5 Points Summary\n",
    "df.describe()"
   ]
  },
  {
   "cell_type": "code",
   "execution_count": 13,
   "metadata": {},
   "outputs": [
    {
     "data": {
      "image/png": "[encoded data removed]",
      "text/plain": [
       "<Figure size 432x288 with 1 Axes>"
      ]
     },
     "metadata": {
      "needs_background": "light"
     },
     "output_type": "display_data"
    }
   ],
   "source": [
    "# Countplot for Categorical Variable\n",
    "sns.countplot(x='ContractRenewal', data=df,  hue='Churn', palette='Set1')\n",
    "plt.show()"
   ]
  },
  {
   "cell_type": "code",
   "execution_count": 14,
   "metadata": {},
   "outputs": [
    {
     "data": {
      "image/png": "[encoded data removed]",
      "text/plain": [
       "<Figure size 432x288 with 1 Axes>"
      ]
     },
     "metadata": {
      "needs_background": "light"
     },
     "output_type": "display_data"
    }
   ],
   "source": [
    "sns.countplot(x='DataPlan', data=df,  hue='Churn', palette='Set2')\n",
    "plt.show()"
   ]
  },
  {
   "cell_type": "code",
   "execution_count": 15,
   "metadata": {},
   "outputs": [
    {
     "data": {
      "image/png": "[encoded data removed]",
      "text/plain": [
       "<Figure size 432x288 with 1 Axes>"
      ]
     },
     "metadata": {
      "needs_background": "light"
     },
     "output_type": "display_data"
    }
   ],
   "source": [
    "sns.countplot(x='CustServCalls', data=df,  hue='Churn', palette='magma')\n",
    "plt.show()"
   ]
  },
  {
   "cell_type": "code",
   "execution_count": 16,
   "metadata": {},
   "outputs": [
    {
     "data": {
      "image/png": "[encoded data removed]",
      "text/plain": [
       "<Figure size 432x288 with 1 Axes>"
      ]
     },
     "metadata": {
      "needs_background": "light"
     },
     "output_type": "display_data"
    }
   ],
   "source": [
    "# plotting distribution for numerical variables\n",
    "num_var = ['AccountWeeks','DataUsage','DayMins','DayCalls','MonthlyCharge','OverageFee','RoamMins']\n",
    "sns.distplot(a=df['AccountWeeks'], color='y')\n",
    "plt.show()"
   ]
  },
  {
   "cell_type": "code",
   "execution_count": 17,
   "metadata": {},
   "outputs": [
    {
     "data": {
      "image/png": "[encoded data removed]",
      "text/plain": [
       "<Figure size 432x288 with 1 Axes>"
      ]
     },
     "metadata": {
      "needs_background": "light"
     },
     "output_type": "display_data"
    }
   ],
   "source": [
    "sns.distplot(a=df['DataUsage'], color='g')\n",
    "plt.show()"
   ]
  },
  {
   "cell_type": "code",
   "execution_count": 18,
   "metadata": {},
   "outputs": [
    {
     "data": {
      "image/png": "[encoded data removed]",
      "text/plain": [
       "<Figure size 432x288 with 1 Axes>"
      ]
     },
     "metadata": {
      "needs_background": "light"
     },
     "output_type": "display_data"
    }
   ],
   "source": [
    "sns.distplot(a=df['DayMins'], color='r')\n",
    "plt.show()"
   ]
  },
  {
   "cell_type": "code",
   "execution_count": 19,
   "metadata": {},
   "outputs": [
    {
     "data": {
      "image/png": "[encoded data removed]",
      "text/plain": [
       "<Figure size 432x288 with 1 Axes>"
      ]
     },
     "metadata": {
      "needs_background": "light"
     },
     "output_type": "display_data"
    }
   ],
   "source": [
    "sns.distplot(a=df['DayCalls'], color='k')\n",
    "plt.show()"
   ]
  },
  {
   "cell_type": "code",
   "execution_count": 20,
   "metadata": {},
   "outputs": [
    {
     "data": {
      "image/png": "[encoded data removed]",
      "text/plain": [
       "<Figure size 432x288 with 1 Axes>"
      ]
     },
     "metadata": {
      "needs_background": "light"
     },
     "output_type": "display_data"
    }
   ],
   "source": [
    "sns.distplot(a=df['DayCalls'], color='purple')\n",
    "plt.show()"
   ]
  },
  {
   "cell_type": "code",
   "execution_count": 21,
   "metadata": {},
   "outputs": [
    {
     "data": {
      "image/png": "[encoded data removed]",
      "text/plain": [
       "<Figure size 432x288 with 1 Axes>"
      ]
     },
     "metadata": {
      "needs_background": "light"
     },
     "output_type": "display_data"
    }
   ],
   "source": [
    "sns.distplot(a=df['MonthlyCharge'], color='g')\n",
    "plt.show() #right skewed"
   ]
  },
  {
   "cell_type": "code",
   "execution_count": 22,
   "metadata": {},
   "outputs": [
    {
     "data": {
      "image/png": "[encoded data removed]",
      "text/plain": [
       "<Figure size 432x288 with 1 Axes>"
      ]
     },
     "metadata": {
      "needs_background": "light"
     },
     "output_type": "display_data"
    }
   ],
   "source": [
    "sns.distplot(a=df['OverageFee'], color='r')\n",
    "plt.show()"
   ]
  },
  {
   "cell_type": "code",
   "execution_count": 23,
   "metadata": {},
   "outputs": [
    {
     "data": {
      "image/png": "[encoded data removed]",
      "text/plain": [
       "<Figure size 432x288 with 1 Axes>"
      ]
     },
     "metadata": {
      "needs_background": "light"
     },
     "output_type": "display_data"
    }
   ],
   "source": [
    "sns.distplot(a=df['RoamMins'], color='k')\n",
    "plt.show()"
   ]
  },
  {
   "cell_type": "code",
   "execution_count": 24,
   "metadata": {},
   "outputs": [
    {
     "data": {
      "image/png": "[encoded data removed]",
      "text/plain": [
       "<Figure size 1440x720 with 1 Axes>"
      ]
     },
     "metadata": {
      "needs_background": "light"
     },
     "output_type": "display_data"
    }
   ],
   "source": [
    "# Checking for the outliers\n",
    "plt.figure(figsize=(20,10))\n",
    "sns.boxplot(data=df, palette='spring')\n",
    "plt.show()"
   ]
  },
  {
   "cell_type": "code",
   "execution_count": 25,
   "metadata": {},
   "outputs": [],
   "source": [
    "# Total outliers in the following features, excluding 'CustServCalls'\n",
    "outliers = ['AccountWeeks','DataUsage','DayMins','DayCalls','MonthlyCharge','OverageFee','RoamMins']\n",
    "\n",
    "dfo = df.copy()\n",
    "for i in outliers:\n",
    "    q1 = dfo[i].quantile(.25)\n",
    "    q3 = dfo[i].quantile(.75)\n",
    "    iqr = q3-q1\n",
    "    ll = q1-(1.5*iqr)\n",
    "    ul = q3+(1.5*iqr)\n",
    "    dfo = dfo[(dfo[i]>=ll) & (dfo[i]<=ul)]"
   ]
  },
  {
   "cell_type": "code",
   "execution_count": 26,
   "metadata": {},
   "outputs": [],
   "source": [
    "dfo_shape = dfo.shape[0]"
   ]
  },
  {
   "cell_type": "code",
   "execution_count": 27,
   "metadata": {},
   "outputs": [
    {
     "name": "stdout",
     "output_type": "stream",
     "text": [
      "df shape: 3333\n",
      "dfo shape: 3158\n",
      "Percentage of outliers removed: 5.2505250525052505\n"
     ]
    }
   ],
   "source": [
    "# checking the % of outliers removed\n",
    "print('df shape:', df_shape)\n",
    "print('dfo shape:', dfo_shape)\n",
    "print('Percentage of outliers removed:', ((df_shape-dfo_shape)/df_shape)*100)"
   ]
  },
  {
   "cell_type": "code",
   "execution_count": 28,
   "metadata": {},
   "outputs": [
    {
     "data": {
      "text/plain": [
       "Index(['Churn', 'AccountWeeks', 'ContractRenewal', 'DataPlan', 'DataUsage',\n",
       "       'CustServCalls', 'DayMins', 'DayCalls', 'MonthlyCharge', 'OverageFee',\n",
       "       'RoamMins'],\n",
       "      dtype='object')"
      ]
     },
     "execution_count": 28,
     "metadata": {},
     "output_type": "execute_result"
    }
   ],
   "source": [
    "dfo.columns"
   ]
  },
  {
   "cell_type": "code",
   "execution_count": 29,
   "metadata": {},
   "outputs": [
    {
     "data": {
      "text/plain": [
       "0    0.860355\n",
       "1    0.139645\n",
       "Name: Churn, dtype: float64"
      ]
     },
     "execution_count": 29,
     "metadata": {},
     "output_type": "execute_result"
    }
   ],
   "source": [
    "# checking the % of different classes in target\n",
    "dfo.Churn.value_counts(normalize=True)"
   ]
  },
  {
   "cell_type": "code",
   "execution_count": 30,
   "metadata": {},
   "outputs": [],
   "source": [
    "# counting total churned vs. not-churned\n",
    "a = dfo.iloc[:,1:]\n",
    "b = dfo.iloc[:,0]\n",
    "churned = dfo.loc[b==1]\n",
    "not_churned = dfo.loc[b==0]"
   ]
  },
  {
   "cell_type": "code",
   "execution_count": 31,
   "metadata": {},
   "outputs": [
    {
     "data": {
      "text/html": [
       "<div>\n",
       "<style scoped>\n",
       "    .dataframe tbody tr th:only-of-type {\n",
       "        vertical-align: middle;\n",
       "    }\n",
       "\n",
       "    .dataframe tbody tr th {\n",
       "        vertical-align: top;\n",
       "    }\n",
       "\n",
       "    .dataframe thead th {\n",
       "        text-align: right;\n",
       "    }\n",
       "</style>\n",
       "<table border=\"1\" class=\"dataframe\">\n",
       "  <thead>\n",
       "    <tr style=\"text-align: right;\">\n",
       "      <th></th>\n",
       "      <th>Churn</th>\n",
       "      <th>AccountWeeks</th>\n",
       "      <th>ContractRenewal</th>\n",
       "      <th>DataPlan</th>\n",
       "      <th>DataUsage</th>\n",
       "      <th>CustServCalls</th>\n",
       "      <th>DayMins</th>\n",
       "      <th>DayCalls</th>\n",
       "      <th>MonthlyCharge</th>\n",
       "      <th>OverageFee</th>\n",
       "      <th>RoamMins</th>\n",
       "    </tr>\n",
       "  </thead>\n",
       "  <tbody>\n",
       "    <tr>\n",
       "      <th>10</th>\n",
       "      <td>1</td>\n",
       "      <td>65</td>\n",
       "      <td>1</td>\n",
       "      <td>0</td>\n",
       "      <td>0.29</td>\n",
       "      <td>4</td>\n",
       "      <td>129.1</td>\n",
       "      <td>137</td>\n",
       "      <td>44.9</td>\n",
       "      <td>11.43</td>\n",
       "      <td>12.7</td>\n",
       "    </tr>\n",
       "    <tr>\n",
       "      <th>21</th>\n",
       "      <td>1</td>\n",
       "      <td>77</td>\n",
       "      <td>1</td>\n",
       "      <td>0</td>\n",
       "      <td>0.00</td>\n",
       "      <td>5</td>\n",
       "      <td>62.4</td>\n",
       "      <td>89</td>\n",
       "      <td>26.0</td>\n",
       "      <td>8.50</td>\n",
       "      <td>5.7</td>\n",
       "    </tr>\n",
       "    <tr>\n",
       "      <th>33</th>\n",
       "      <td>1</td>\n",
       "      <td>12</td>\n",
       "      <td>1</td>\n",
       "      <td>0</td>\n",
       "      <td>0.00</td>\n",
       "      <td>1</td>\n",
       "      <td>249.6</td>\n",
       "      <td>118</td>\n",
       "      <td>64.0</td>\n",
       "      <td>12.62</td>\n",
       "      <td>11.8</td>\n",
       "    </tr>\n",
       "    <tr>\n",
       "      <th>41</th>\n",
       "      <td>1</td>\n",
       "      <td>135</td>\n",
       "      <td>0</td>\n",
       "      <td>1</td>\n",
       "      <td>3.94</td>\n",
       "      <td>0</td>\n",
       "      <td>173.1</td>\n",
       "      <td>85</td>\n",
       "      <td>86.4</td>\n",
       "      <td>10.20</td>\n",
       "      <td>14.6</td>\n",
       "    </tr>\n",
       "    <tr>\n",
       "      <th>48</th>\n",
       "      <td>1</td>\n",
       "      <td>119</td>\n",
       "      <td>1</td>\n",
       "      <td>0</td>\n",
       "      <td>0.00</td>\n",
       "      <td>5</td>\n",
       "      <td>159.1</td>\n",
       "      <td>114</td>\n",
       "      <td>47.0</td>\n",
       "      <td>11.57</td>\n",
       "      <td>8.8</td>\n",
       "    </tr>\n",
       "  </tbody>\n",
       "</table>\n",
       "</div>"
      ],
      "text/plain": [
       "   Churn  AccountWeeks ContractRenewal DataPlan  DataUsage CustServCalls  \\\n",
       "10     1            65               1        0       0.29             4   \n",
       "21     1            77               1        0       0.00             5   \n",
       "33     1            12               1        0       0.00             1   \n",
       "41     1           135               0        1       3.94             0   \n",
       "48     1           119               1        0       0.00             5   \n",
       "\n",
       "    DayMins  DayCalls  MonthlyCharge  OverageFee  RoamMins  \n",
       "10    129.1       137           44.9       11.43      12.7  \n",
       "21     62.4        89           26.0        8.50       5.7  \n",
       "33    249.6       118           64.0       12.62      11.8  \n",
       "41    173.1        85           86.4       10.20      14.6  \n",
       "48    159.1       114           47.0       11.57       8.8  "
      ]
     },
     "execution_count": 31,
     "metadata": {},
     "output_type": "execute_result"
    }
   ],
   "source": [
    "churned.head()"
   ]
  },
  {
   "cell_type": "code",
   "execution_count": 32,
   "metadata": {},
   "outputs": [
    {
     "data": {
      "text/html": [
       "<div>\n",
       "<style scoped>\n",
       "    .dataframe tbody tr th:only-of-type {\n",
       "        vertical-align: middle;\n",
       "    }\n",
       "\n",
       "    .dataframe tbody tr th {\n",
       "        vertical-align: top;\n",
       "    }\n",
       "\n",
       "    .dataframe thead th {\n",
       "        text-align: right;\n",
       "    }\n",
       "</style>\n",
       "<table border=\"1\" class=\"dataframe\">\n",
       "  <thead>\n",
       "    <tr style=\"text-align: right;\">\n",
       "      <th></th>\n",
       "      <th>Churn</th>\n",
       "      <th>AccountWeeks</th>\n",
       "      <th>ContractRenewal</th>\n",
       "      <th>DataPlan</th>\n",
       "      <th>DataUsage</th>\n",
       "      <th>CustServCalls</th>\n",
       "      <th>DayMins</th>\n",
       "      <th>DayCalls</th>\n",
       "      <th>MonthlyCharge</th>\n",
       "      <th>OverageFee</th>\n",
       "      <th>RoamMins</th>\n",
       "    </tr>\n",
       "  </thead>\n",
       "  <tbody>\n",
       "    <tr>\n",
       "      <th>0</th>\n",
       "      <td>0</td>\n",
       "      <td>128</td>\n",
       "      <td>1</td>\n",
       "      <td>1</td>\n",
       "      <td>2.7</td>\n",
       "      <td>1</td>\n",
       "      <td>265.1</td>\n",
       "      <td>110</td>\n",
       "      <td>89.0</td>\n",
       "      <td>9.87</td>\n",
       "      <td>10.0</td>\n",
       "    </tr>\n",
       "    <tr>\n",
       "      <th>1</th>\n",
       "      <td>0</td>\n",
       "      <td>107</td>\n",
       "      <td>1</td>\n",
       "      <td>1</td>\n",
       "      <td>3.7</td>\n",
       "      <td>1</td>\n",
       "      <td>161.6</td>\n",
       "      <td>123</td>\n",
       "      <td>82.0</td>\n",
       "      <td>9.78</td>\n",
       "      <td>13.7</td>\n",
       "    </tr>\n",
       "    <tr>\n",
       "      <th>2</th>\n",
       "      <td>0</td>\n",
       "      <td>137</td>\n",
       "      <td>1</td>\n",
       "      <td>0</td>\n",
       "      <td>0.0</td>\n",
       "      <td>0</td>\n",
       "      <td>243.4</td>\n",
       "      <td>114</td>\n",
       "      <td>52.0</td>\n",
       "      <td>6.06</td>\n",
       "      <td>12.2</td>\n",
       "    </tr>\n",
       "    <tr>\n",
       "      <th>4</th>\n",
       "      <td>0</td>\n",
       "      <td>75</td>\n",
       "      <td>0</td>\n",
       "      <td>0</td>\n",
       "      <td>0.0</td>\n",
       "      <td>3</td>\n",
       "      <td>166.7</td>\n",
       "      <td>113</td>\n",
       "      <td>41.0</td>\n",
       "      <td>7.42</td>\n",
       "      <td>10.1</td>\n",
       "    </tr>\n",
       "    <tr>\n",
       "      <th>5</th>\n",
       "      <td>0</td>\n",
       "      <td>118</td>\n",
       "      <td>0</td>\n",
       "      <td>0</td>\n",
       "      <td>0.0</td>\n",
       "      <td>0</td>\n",
       "      <td>223.4</td>\n",
       "      <td>98</td>\n",
       "      <td>57.0</td>\n",
       "      <td>11.03</td>\n",
       "      <td>6.3</td>\n",
       "    </tr>\n",
       "  </tbody>\n",
       "</table>\n",
       "</div>"
      ],
      "text/plain": [
       "  Churn  AccountWeeks ContractRenewal DataPlan  DataUsage CustServCalls  \\\n",
       "0     0           128               1        1        2.7             1   \n",
       "1     0           107               1        1        3.7             1   \n",
       "2     0           137               1        0        0.0             0   \n",
       "4     0            75               0        0        0.0             3   \n",
       "5     0           118               0        0        0.0             0   \n",
       "\n",
       "   DayMins  DayCalls  MonthlyCharge  OverageFee  RoamMins  \n",
       "0    265.1       110           89.0        9.87      10.0  \n",
       "1    161.6       123           82.0        9.78      13.7  \n",
       "2    243.4       114           52.0        6.06      12.2  \n",
       "4    166.7       113           41.0        7.42      10.1  \n",
       "5    223.4        98           57.0       11.03       6.3  "
      ]
     },
     "execution_count": 32,
     "metadata": {},
     "output_type": "execute_result"
    }
   ],
   "source": [
    "not_churned.head()"
   ]
  },
  {
   "cell_type": "code",
   "execution_count": 33,
   "metadata": {},
   "outputs": [
    {
     "data": {
      "image/png": "[encoded data removed]",
      "text/plain": [
       "<Figure size 432x288 with 1 Axes>"
      ]
     },
     "metadata": {
      "needs_background": "light"
     },
     "output_type": "display_data"
    }
   ],
   "source": [
    "# vizualizinf the target variable through scatterplot (Taking DayMins & MonthlyCharge )\n",
    "plt.scatter(churned.iloc[:, 6], churned.iloc[:, 8], s=10, label='Churned', color ='blue')\n",
    "plt.scatter(not_churned.iloc[:, 6], not_churned.iloc[:,8], s=10, label='Not Churned', color ='red')\n",
    "plt.legend()\n",
    "plt.show()"
   ]
  },
  {
   "cell_type": "markdown",
   "metadata": {},
   "source": [
    "##### Standardizining the data"
   ]
  },
  {
   "cell_type": "code",
   "execution_count": 34,
   "metadata": {},
   "outputs": [
    {
     "data": {
      "text/html": [
       "<div>\n",
       "<style scoped>\n",
       "    .dataframe tbody tr th:only-of-type {\n",
       "        vertical-align: middle;\n",
       "    }\n",
       "\n",
       "    .dataframe tbody tr th {\n",
       "        vertical-align: top;\n",
       "    }\n",
       "\n",
       "    .dataframe thead th {\n",
       "        text-align: right;\n",
       "    }\n",
       "</style>\n",
       "<table border=\"1\" class=\"dataframe\">\n",
       "  <thead>\n",
       "    <tr style=\"text-align: right;\">\n",
       "      <th></th>\n",
       "      <th>AccountWeeks</th>\n",
       "      <th>ContractRenewal</th>\n",
       "      <th>DataPlan</th>\n",
       "      <th>DataUsage</th>\n",
       "      <th>CustServCalls</th>\n",
       "      <th>DayMins</th>\n",
       "      <th>DayCalls</th>\n",
       "      <th>MonthlyCharge</th>\n",
       "      <th>OverageFee</th>\n",
       "      <th>RoamMins</th>\n",
       "      <th>Churn</th>\n",
       "    </tr>\n",
       "  </thead>\n",
       "  <tbody>\n",
       "    <tr>\n",
       "      <th>0</th>\n",
       "      <td>0.706707</td>\n",
       "      <td>0.321596</td>\n",
       "      <td>1.637270</td>\n",
       "      <td>1.529682</td>\n",
       "      <td>-0.433472</td>\n",
       "      <td>1.646781</td>\n",
       "      <td>0.491358</td>\n",
       "      <td>2.110767</td>\n",
       "      <td>-0.069438</td>\n",
       "      <td>-0.097249</td>\n",
       "      <td>0</td>\n",
       "    </tr>\n",
       "    <tr>\n",
       "      <th>1</th>\n",
       "      <td>0.169114</td>\n",
       "      <td>0.321596</td>\n",
       "      <td>1.637270</td>\n",
       "      <td>2.333475</td>\n",
       "      <td>-0.433472</td>\n",
       "      <td>-0.336055</td>\n",
       "      <td>1.164326</td>\n",
       "      <td>1.663279</td>\n",
       "      <td>-0.106118</td>\n",
       "      <td>1.348266</td>\n",
       "      <td>0</td>\n",
       "    </tr>\n",
       "    <tr>\n",
       "      <th>2</th>\n",
       "      <td>0.937104</td>\n",
       "      <td>0.321596</td>\n",
       "      <td>-0.610773</td>\n",
       "      <td>-0.640557</td>\n",
       "      <td>-1.194396</td>\n",
       "      <td>1.231056</td>\n",
       "      <td>0.698425</td>\n",
       "      <td>-0.254527</td>\n",
       "      <td>-1.622219</td>\n",
       "      <td>0.762246</td>\n",
       "      <td>0</td>\n",
       "    </tr>\n",
       "    <tr>\n",
       "      <th>4</th>\n",
       "      <td>-0.650076</td>\n",
       "      <td>-3.109489</td>\n",
       "      <td>-0.610773</td>\n",
       "      <td>-0.640557</td>\n",
       "      <td>1.088377</td>\n",
       "      <td>-0.238350</td>\n",
       "      <td>0.646658</td>\n",
       "      <td>-0.957723</td>\n",
       "      <td>-1.067946</td>\n",
       "      <td>-0.058181</td>\n",
       "      <td>0</td>\n",
       "    </tr>\n",
       "    <tr>\n",
       "      <th>5</th>\n",
       "      <td>0.450710</td>\n",
       "      <td>-3.109489</td>\n",
       "      <td>-0.610773</td>\n",
       "      <td>-0.640557</td>\n",
       "      <td>-1.194396</td>\n",
       "      <td>0.847899</td>\n",
       "      <td>-0.129843</td>\n",
       "      <td>0.065107</td>\n",
       "      <td>0.403325</td>\n",
       "      <td>-1.542764</td>\n",
       "      <td>0</td>\n",
       "    </tr>\n",
       "  </tbody>\n",
       "</table>\n",
       "</div>"
      ],
      "text/plain": [
       "   AccountWeeks  ContractRenewal  DataPlan  DataUsage  CustServCalls  \\\n",
       "0      0.706707         0.321596  1.637270   1.529682      -0.433472   \n",
       "1      0.169114         0.321596  1.637270   2.333475      -0.433472   \n",
       "2      0.937104         0.321596 -0.610773  -0.640557      -1.194396   \n",
       "4     -0.650076        -3.109489 -0.610773  -0.640557       1.088377   \n",
       "5      0.450710        -3.109489 -0.610773  -0.640557      -1.194396   \n",
       "\n",
       "    DayMins  DayCalls  MonthlyCharge  OverageFee  RoamMins Churn  \n",
       "0  1.646781  0.491358       2.110767   -0.069438 -0.097249     0  \n",
       "1 -0.336055  1.164326       1.663279   -0.106118  1.348266     0  \n",
       "2  1.231056  0.698425      -0.254527   -1.622219  0.762246     0  \n",
       "4 -0.238350  0.646658      -0.957723   -1.067946 -0.058181     0  \n",
       "5  0.847899 -0.129843       0.065107    0.403325 -1.542764     0  "
      ]
     },
     "execution_count": 34,
     "metadata": {},
     "output_type": "execute_result"
    }
   ],
   "source": [
    "from scipy.stats import zscore\n",
    "dfo_scaled = dfo.drop('Churn',1).apply(zscore)\n",
    "dfo_scaled['Churn'] = dfo['Churn']\n",
    "dfo_scaled.head()"
   ]
  },
  {
   "cell_type": "code",
   "execution_count": 35,
   "metadata": {},
   "outputs": [],
   "source": [
    "dfo_scaled['Churn']=dfo_scaled['Churn'].astype(int)"
   ]
  },
  {
   "cell_type": "code",
   "execution_count": 36,
   "metadata": {},
   "outputs": [
    {
     "data": {
      "text/plain": [
       "AccountWeeks       float64\n",
       "ContractRenewal    float64\n",
       "DataPlan           float64\n",
       "DataUsage          float64\n",
       "CustServCalls      float64\n",
       "DayMins            float64\n",
       "DayCalls           float64\n",
       "MonthlyCharge      float64\n",
       "OverageFee         float64\n",
       "RoamMins           float64\n",
       "Churn                int32\n",
       "dtype: object"
      ]
     },
     "execution_count": 36,
     "metadata": {},
     "output_type": "execute_result"
    }
   ],
   "source": [
    "dfo_scaled.dtypes"
   ]
  },
  {
   "cell_type": "markdown",
   "metadata": {},
   "source": [
    "#### Visualization using Decision Tree"
   ]
  },
  {
   "cell_type": "code",
   "execution_count": 37,
   "metadata": {},
   "outputs": [
    {
     "data": {
      "image/png": "[encoded data removed]",
      "text/plain": [
       "<IPython.core.display.Image object>"
      ]
     },
     "execution_count": 37,
     "metadata": {},
     "output_type": "execute_result"
    }
   ],
   "source": [
    "X = dfo_scaled.drop('Churn',axis=1)\n",
    "y = dfo_scaled['Churn']\n",
    "\n",
    "from sklearn.tree import DecisionTreeClassifier\n",
    "\n",
    "dtc = DecisionTreeClassifier(random_state=1, max_depth=5, max_leaf_nodes=10) \n",
    "\n",
    "dtc.fit(X,y)\n",
    "\n",
    "from IPython.display import Image\n",
    "from sklearn.externals.six import StringIO\n",
    "from sklearn.tree import export_graphviz\n",
    "import pydotplus\n",
    "\n",
    "dot_data = export_graphviz(dtc, out_file=None, feature_names=X.columns)\n",
    "graph = pydotplus.graph_from_dot_data(dot_data)\n",
    "Image(graph.create_png())"
   ]
  },
  {
   "cell_type": "markdown",
   "metadata": {},
   "source": [
    "Here we see, that DayMin is the most significant variable for the first split."
   ]
  },
  {
   "cell_type": "markdown",
   "metadata": {},
   "source": [
    "**Checking Co-relation**"
   ]
  },
  {
   "cell_type": "code",
   "execution_count": 38,
   "metadata": {
    "scrolled": true
   },
   "outputs": [
    {
     "data": {
      "image/png": "[encoded data removed]",
      "text/plain": [
       "<Figure size 1080x720 with 2 Axes>"
      ]
     },
     "metadata": {
      "needs_background": "light"
     },
     "output_type": "display_data"
    }
   ],
   "source": [
    "# Correlation between features\n",
    "plt.figure(figsize=(15,10))\n",
    "corr = dfo_scaled.corr()\n",
    "mask = np.zeros_like(corr, dtype=np.bool)\n",
    "mask[np.triu_indices_from(mask)]=True\n",
    "sns.heatmap(corr, mask=mask, linewidth=0.5, annot=True)\n",
    "plt.show()"
   ]
  },
  {
   "cell_type": "code",
   "execution_count": 39,
   "metadata": {},
   "outputs": [
    {
     "data": {
      "image/png": "[encoded data removed]",
      "text/plain": [
       "<Figure size 432x216 with 2 Axes>"
      ]
     },
     "metadata": {
      "needs_background": "light"
     },
     "output_type": "display_data"
    },
    {
     "name": "stdout",
     "output_type": "stream",
     "text": [
      "Corelation between Churn & AccountWeeks is: 0.0123\n",
      "which is negligible co-relation\n"
     ]
    },
    {
     "data": {
      "image/png": "[encoded data removed]",
      "text/plain": [
       "<Figure size 432x216 with 2 Axes>"
      ]
     },
     "metadata": {
      "needs_background": "light"
     },
     "output_type": "display_data"
    },
    {
     "name": "stdout",
     "output_type": "stream",
     "text": [
      "Corelation between Churn & ContractRenewal is: -0.2372\n",
      "which is low negative co-relation\n"
     ]
    },
    {
     "data": {
      "image/png": "[encoded data removed]",
      "text/plain": [
       "<Figure size 432x216 with 2 Axes>"
      ]
     },
     "metadata": {
      "needs_background": "light"
     },
     "output_type": "display_data"
    },
    {
     "name": "stdout",
     "output_type": "stream",
     "text": [
      "Corelation between Churn & DataPlan is: -0.0982\n",
      "which is negligible co-relation\n"
     ]
    },
    {
     "data": {
      "image/png": "[encoded data removed]",
      "text/plain": [
       "<Figure size 432x216 with 2 Axes>"
      ]
     },
     "metadata": {
      "needs_background": "light"
     },
     "output_type": "display_data"
    },
    {
     "name": "stdout",
     "output_type": "stream",
     "text": [
      "Corelation between Churn & DataUsage is: -0.0904\n",
      "which is negligible co-relation\n"
     ]
    },
    {
     "data": {
      "image/png": "[encoded data removed]",
      "text/plain": [
       "<Figure size 432x216 with 2 Axes>"
      ]
     },
     "metadata": {
      "needs_background": "light"
     },
     "output_type": "display_data"
    },
    {
     "name": "stdout",
     "output_type": "stream",
     "text": [
      "Corelation between Churn & CustServCalls is: 0.2188\n",
      "which is low positive co-relation\n"
     ]
    },
    {
     "data": {
      "image/png": "[encoded data removed]",
      "text/plain": [
       "<Figure size 432x216 with 2 Axes>"
      ]
     },
     "metadata": {
      "needs_background": "light"
     },
     "output_type": "display_data"
    },
    {
     "name": "stdout",
     "output_type": "stream",
     "text": [
      "Corelation between Churn & DayMins is: 0.1888\n",
      "which is negligible co-relation\n"
     ]
    },
    {
     "data": {
      "image/png": "[encoded data removed]",
      "text/plain": [
       "<Figure size 432x216 with 2 Axes>"
      ]
     },
     "metadata": {
      "needs_background": "light"
     },
     "output_type": "display_data"
    },
    {
     "name": "stdout",
     "output_type": "stream",
     "text": [
      "Corelation between Churn & DayCalls is: 0.0314\n",
      "which is negligible co-relation\n"
     ]
    },
    {
     "data": {
      "image/png": "[encoded data removed]",
      "text/plain": [
       "<Figure size 432x216 with 2 Axes>"
      ]
     },
     "metadata": {
      "needs_background": "light"
     },
     "output_type": "display_data"
    },
    {
     "name": "stdout",
     "output_type": "stream",
     "text": [
      "Corelation between Churn & MonthlyCharge is: 0.0578\n",
      "which is negligible co-relation\n"
     ]
    },
    {
     "data": {
      "image/png": "[encoded data removed]",
      "text/plain": [
       "<Figure size 432x216 with 2 Axes>"
      ]
     },
     "metadata": {
      "needs_background": "light"
     },
     "output_type": "display_data"
    },
    {
     "name": "stdout",
     "output_type": "stream",
     "text": [
      "Corelation between Churn & OverageFee is: 0.085\n",
      "which is negligible co-relation\n"
     ]
    },
    {
     "data": {
      "image/png": "[encoded data removed]",
      "text/plain": [
       "<Figure size 432x216 with 2 Axes>"
      ]
     },
     "metadata": {
      "needs_background": "light"
     },
     "output_type": "display_data"
    },
    {
     "name": "stdout",
     "output_type": "stream",
     "text": [
      "Corelation between Churn & RoamMins is: 0.0499\n",
      "which is negligible co-relation\n"
     ]
    }
   ],
   "source": [
    "# Corelation within features\n",
    "for i in dfo_scaled.drop('Churn',1):\n",
    "    plt.figure(figsize=(6,3))\n",
    "    corr = dfo_scaled[['Churn',i]].corr()\n",
    "    #mask = np.zeros_like(corr, dtype=np.bool)\n",
    "    #mask[np.triu_indices_from(mask)]=True\n",
    "    #sns.heatmap(corr, mask=mask, linewidth=0.5, annot=True)\n",
    "    sns.heatmap(corr, linewidth=0.5, annot=True)\n",
    "    plt.show()\n",
    "    print(\"Corelation between Churn &\",i,'is:', round(corr.iloc[1,0],4))\n",
    "    if round(corr.iloc[1,0],4)>=0.5:\n",
    "        print('which is high positive co-relation')\n",
    "    elif 0.2<=round(corr.iloc[1,0],4)<0.5:\n",
    "        print('which is low positive co-relation')\n",
    "    elif -0.2<round(corr.iloc[1,0],4)<0.2:\n",
    "        print('which is negligible co-relation')\n",
    "    elif -0.5<round(corr.iloc[1,0],4)<=-0.2:\n",
    "        print('which is low negative co-relation')\n",
    "    elif round(corr.iloc[1,0],4)<=-0.5:\n",
    "        print('which is high negative co-relation')\n"
   ]
  },
  {
   "cell_type": "markdown",
   "metadata": {},
   "source": [
    "#### Model Building (Stats)"
   ]
  },
  {
   "cell_type": "code",
   "execution_count": 40,
   "metadata": {},
   "outputs": [
    {
     "name": "stdout",
     "output_type": "stream",
     "text": [
      "Optimization terminated successfully.\n",
      "         Current function value: 0.326064\n",
      "         Iterations 7\n"
     ]
    },
    {
     "data": {
      "text/html": [
       "<table class=\"simpletable\">\n",
       "<caption>Logit Regression Results</caption>\n",
       "<tr>\n",
       "  <th>Dep. Variable:</th>         <td>Churn</td>      <th>  No. Observations:  </th>   <td>  3158</td>  \n",
       "</tr>\n",
       "<tr>\n",
       "  <th>Model:</th>                 <td>Logit</td>      <th>  Df Residuals:      </th>   <td>  3147</td>  \n",
       "</tr>\n",
       "<tr>\n",
       "  <th>Method:</th>                 <td>MLE</td>       <th>  Df Model:          </th>   <td>    10</td>  \n",
       "</tr>\n",
       "<tr>\n",
       "  <th>Date:</th>            <td>Sat, 25 Jan 2020</td> <th>  Pseudo R-squ.:     </th>   <td>0.1935</td>  \n",
       "</tr>\n",
       "<tr>\n",
       "  <th>Time:</th>                <td>23:42:31</td>     <th>  Log-Likelihood:    </th>  <td> -1029.7</td> \n",
       "</tr>\n",
       "<tr>\n",
       "  <th>converged:</th>             <td>True</td>       <th>  LL-Null:           </th>  <td> -1276.8</td> \n",
       "</tr>\n",
       "<tr>\n",
       "  <th>Covariance Type:</th>     <td>nonrobust</td>    <th>  LLR p-value:       </th> <td>7.442e-100</td>\n",
       "</tr>\n",
       "</table>\n",
       "<table class=\"simpletable\">\n",
       "<tr>\n",
       "         <td></td>            <th>coef</th>     <th>std err</th>      <th>z</th>      <th>P>|z|</th>  <th>[0.025</th>    <th>0.975]</th>  \n",
       "</tr>\n",
       "<tr>\n",
       "  <th>AccountWeeks</th>    <td>    0.0129</td> <td>    0.057</td> <td>    0.226</td> <td> 0.821</td> <td>   -0.099</td> <td>    0.125</td>\n",
       "</tr>\n",
       "<tr>\n",
       "  <th>ContractRenewal</th> <td>   -0.5526</td> <td>    0.044</td> <td>  -12.701</td> <td> 0.000</td> <td>   -0.638</td> <td>   -0.467</td>\n",
       "</tr>\n",
       "<tr>\n",
       "  <th>DataPlan</th>        <td>   -0.4621</td> <td>    0.259</td> <td>   -1.785</td> <td> 0.074</td> <td>   -0.969</td> <td>    0.045</td>\n",
       "</tr>\n",
       "<tr>\n",
       "  <th>DataUsage</th>       <td>    0.6315</td> <td>    2.472</td> <td>    0.255</td> <td> 0.798</td> <td>   -4.214</td> <td>    5.477</td>\n",
       "</tr>\n",
       "<tr>\n",
       "  <th>CustServCalls</th>   <td>    0.6944</td> <td>    0.053</td> <td>   13.199</td> <td> 0.000</td> <td>    0.591</td> <td>    0.797</td>\n",
       "</tr>\n",
       "<tr>\n",
       "  <th>DayMins</th>         <td>    1.0268</td> <td>    1.755</td> <td>    0.585</td> <td> 0.559</td> <td>   -2.414</td> <td>    4.467</td>\n",
       "</tr>\n",
       "<tr>\n",
       "  <th>DayCalls</th>        <td>    0.1060</td> <td>    0.057</td> <td>    1.863</td> <td> 0.062</td> <td>   -0.006</td> <td>    0.217</td>\n",
       "</tr>\n",
       "<tr>\n",
       "  <th>MonthlyCharge</th>   <td>   -0.6662</td> <td>    3.091</td> <td>   -0.215</td> <td> 0.829</td> <td>   -6.725</td> <td>    5.393</td>\n",
       "</tr>\n",
       "<tr>\n",
       "  <th>OverageFee</th>      <td>    0.5149</td> <td>    0.827</td> <td>    0.623</td> <td> 0.534</td> <td>   -1.106</td> <td>    2.136</td>\n",
       "</tr>\n",
       "<tr>\n",
       "  <th>RoamMins</th>        <td>    0.1816</td> <td>    0.063</td> <td>    2.885</td> <td> 0.004</td> <td>    0.058</td> <td>    0.305</td>\n",
       "</tr>\n",
       "<tr>\n",
       "  <th>const</th>           <td>   -2.2931</td> <td>    0.072</td> <td>  -31.969</td> <td> 0.000</td> <td>   -2.434</td> <td>   -2.153</td>\n",
       "</tr>\n",
       "</table>"
      ],
      "text/plain": [
       "<class 'statsmodels.iolib.summary.Summary'>\n",
       "\"\"\"\n",
       "                           Logit Regression Results                           \n",
       "==============================================================================\n",
       "Dep. Variable:                  Churn   No. Observations:                 3158\n",
       "Model:                          Logit   Df Residuals:                     3147\n",
       "Method:                           MLE   Df Model:                           10\n",
       "Date:                Sat, 25 Jan 2020   Pseudo R-squ.:                  0.1935\n",
       "Time:                        23:42:31   Log-Likelihood:                -1029.7\n",
       "converged:                       True   LL-Null:                       -1276.8\n",
       "Covariance Type:            nonrobust   LLR p-value:                7.442e-100\n",
       "===================================================================================\n",
       "                      coef    std err          z      P>|z|      [0.025      0.975]\n",
       "-----------------------------------------------------------------------------------\n",
       "AccountWeeks        0.0129      0.057      0.226      0.821      -0.099       0.125\n",
       "ContractRenewal    -0.5526      0.044    -12.701      0.000      -0.638      -0.467\n",
       "DataPlan           -0.4621      0.259     -1.785      0.074      -0.969       0.045\n",
       "DataUsage           0.6315      2.472      0.255      0.798      -4.214       5.477\n",
       "CustServCalls       0.6944      0.053     13.199      0.000       0.591       0.797\n",
       "DayMins             1.0268      1.755      0.585      0.559      -2.414       4.467\n",
       "DayCalls            0.1060      0.057      1.863      0.062      -0.006       0.217\n",
       "MonthlyCharge      -0.6662      3.091     -0.215      0.829      -6.725       5.393\n",
       "OverageFee          0.5149      0.827      0.623      0.534      -1.106       2.136\n",
       "RoamMins            0.1816      0.063      2.885      0.004       0.058       0.305\n",
       "const              -2.2931      0.072    -31.969      0.000      -2.434      -2.153\n",
       "===================================================================================\n",
       "\"\"\""
      ]
     },
     "execution_count": 40,
     "metadata": {},
     "output_type": "execute_result"
    }
   ],
   "source": [
    "X = dfo_scaled.drop('Churn',axis=1)\n",
    "y = dfo_scaled['Churn']\n",
    "X = X.assign(const=1)\n",
    "\n",
    "import statsmodels.api as sm\n",
    "logit = sm.Logit(y,X).fit()\n",
    "\n",
    "logit.summary()"
   ]
  },
  {
   "cell_type": "code",
   "execution_count": 41,
   "metadata": {},
   "outputs": [
    {
     "data": {
      "text/html": [
       "<div>\n",
       "<style scoped>\n",
       "    .dataframe tbody tr th:only-of-type {\n",
       "        vertical-align: middle;\n",
       "    }\n",
       "\n",
       "    .dataframe tbody tr th {\n",
       "        vertical-align: top;\n",
       "    }\n",
       "\n",
       "    .dataframe thead th {\n",
       "        text-align: right;\n",
       "    }\n",
       "</style>\n",
       "<table border=\"1\" class=\"dataframe\">\n",
       "  <thead>\n",
       "    <tr style=\"text-align: right;\">\n",
       "      <th></th>\n",
       "      <th>vif</th>\n",
       "    </tr>\n",
       "  </thead>\n",
       "  <tbody>\n",
       "    <tr>\n",
       "      <th>AccountWeeks</th>\n",
       "      <td>1.004907</td>\n",
       "    </tr>\n",
       "    <tr>\n",
       "      <th>ContractRenewal</th>\n",
       "      <td>1.005396</td>\n",
       "    </tr>\n",
       "    <tr>\n",
       "      <th>DataPlan</th>\n",
       "      <td>14.352485</td>\n",
       "    </tr>\n",
       "    <tr>\n",
       "      <th>DataUsage</th>\n",
       "      <td>1878.633029</td>\n",
       "    </tr>\n",
       "    <tr>\n",
       "      <th>CustServCalls</th>\n",
       "      <td>1.003037</td>\n",
       "    </tr>\n",
       "    <tr>\n",
       "      <th>DayMins</th>\n",
       "      <td>949.665277</td>\n",
       "    </tr>\n",
       "    <tr>\n",
       "      <th>DayCalls</th>\n",
       "      <td>1.003618</td>\n",
       "    </tr>\n",
       "    <tr>\n",
       "      <th>MonthlyCharge</th>\n",
       "      <td>2948.485446</td>\n",
       "    </tr>\n",
       "    <tr>\n",
       "      <th>OverageFee</th>\n",
       "      <td>210.767351</td>\n",
       "    </tr>\n",
       "    <tr>\n",
       "      <th>RoamMins</th>\n",
       "      <td>1.324392</td>\n",
       "    </tr>\n",
       "    <tr>\n",
       "      <th>const</th>\n",
       "      <td>1.000000</td>\n",
       "    </tr>\n",
       "  </tbody>\n",
       "</table>\n",
       "</div>"
      ],
      "text/plain": [
       "                         vif\n",
       "AccountWeeks        1.004907\n",
       "ContractRenewal     1.005396\n",
       "DataPlan           14.352485\n",
       "DataUsage        1878.633029\n",
       "CustServCalls       1.003037\n",
       "DayMins           949.665277\n",
       "DayCalls            1.003618\n",
       "MonthlyCharge    2948.485446\n",
       "OverageFee        210.767351\n",
       "RoamMins            1.324392\n",
       "const               1.000000"
      ]
     },
     "execution_count": 41,
     "metadata": {},
     "output_type": "execute_result"
    }
   ],
   "source": [
    "# Check for multi-collinearity\n",
    "\n",
    "from statsmodels.stats.outliers_influence import variance_inflation_factor\n",
    "vif = [variance_inflation_factor(X.values, i) for i in range(X.shape[1])]\n",
    "pd.DataFrame({'vif':vif}, index=X.columns)"
   ]
  },
  {
   "cell_type": "code",
   "execution_count": 42,
   "metadata": {},
   "outputs": [
    {
     "name": "stdout",
     "output_type": "stream",
     "text": [
      "Optimization terminated successfully.\n",
      "         Current function value: 0.652540\n",
      "         Iterations 5\n",
      "variable removed: MonthlyCharge 0.9808948602078664\n",
      "Optimization terminated successfully.\n",
      "         Current function value: 0.652540\n",
      "         Iterations 5\n",
      "variable removed: DataUsage 0.7414092739112312\n",
      "Optimization terminated successfully.\n",
      "         Current function value: 0.652557\n",
      "         Iterations 5\n",
      "variable removed: DayCalls 0.2546418343845652\n",
      "Optimization terminated successfully.\n",
      "         Current function value: 0.652763\n",
      "         Iterations 5\n"
     ]
    },
    {
     "data": {
      "text/plain": [
       "['AccountWeeks',\n",
       " 'ContractRenewal',\n",
       " 'DataPlan',\n",
       " 'CustServCalls',\n",
       " 'DayMins',\n",
       " 'OverageFee',\n",
       " 'RoamMins']"
      ]
     },
     "execution_count": 42,
     "metadata": {},
     "output_type": "execute_result"
    }
   ],
   "source": [
    "# Using Backward Elimination to check, which features are significantly not important.\n",
    "\n",
    "X = dfo_scaled.drop(['Churn'],axis=1)\n",
    "y = dfo_scaled['Churn']\n",
    "\n",
    "cols = list(X.columns)\n",
    "p= []\n",
    "while (len(cols)>1):\n",
    "    \n",
    "    X = X[cols]\n",
    "    model = sm.Logit(y,X).fit().pvalues\n",
    "    p = pd.Series(model.values[1:],index =X.columns[1:])      \n",
    "    pmax = max(p)\n",
    "    pid=p.idxmax()\n",
    "    if(pmax>0.05):\n",
    "        cols.remove(pid)\n",
    "        print('variable removed:',pid,pmax)\n",
    "    else:\n",
    "        break\n",
    "cols"
   ]
  },
  {
   "cell_type": "markdown",
   "metadata": {},
   "source": [
    "We will drop the features based on, significance level(p-value) and vif.\n",
    "\n",
    "Here we see high multi collinearity."
   ]
  },
  {
   "cell_type": "code",
   "execution_count": 43,
   "metadata": {},
   "outputs": [
    {
     "name": "stdout",
     "output_type": "stream",
     "text": [
      "Optimization terminated successfully.\n",
      "         Current function value: 0.326656\n",
      "         Iterations 7\n"
     ]
    },
    {
     "data": {
      "text/html": [
       "<table class=\"simpletable\">\n",
       "<caption>Logit Regression Results</caption>\n",
       "<tr>\n",
       "  <th>Dep. Variable:</th>         <td>Churn</td>      <th>  No. Observations:  </th>   <td>  3158</td>  \n",
       "</tr>\n",
       "<tr>\n",
       "  <th>Model:</th>                 <td>Logit</td>      <th>  Df Residuals:      </th>   <td>  3151</td>  \n",
       "</tr>\n",
       "<tr>\n",
       "  <th>Method:</th>                 <td>MLE</td>       <th>  Df Model:          </th>   <td>     6</td>  \n",
       "</tr>\n",
       "<tr>\n",
       "  <th>Date:</th>            <td>Sat, 25 Jan 2020</td> <th>  Pseudo R-squ.:     </th>   <td>0.1921</td>  \n",
       "</tr>\n",
       "<tr>\n",
       "  <th>Time:</th>                <td>23:42:31</td>     <th>  Log-Likelihood:    </th>  <td> -1031.6</td> \n",
       "</tr>\n",
       "<tr>\n",
       "  <th>converged:</th>             <td>True</td>       <th>  LL-Null:           </th>  <td> -1276.8</td> \n",
       "</tr>\n",
       "<tr>\n",
       "  <th>Covariance Type:</th>     <td>nonrobust</td>    <th>  LLR p-value:       </th> <td>9.247e-103</td>\n",
       "</tr>\n",
       "</table>\n",
       "<table class=\"simpletable\">\n",
       "<tr>\n",
       "         <td></td>            <th>coef</th>     <th>std err</th>      <th>z</th>      <th>P>|z|</th>  <th>[0.025</th>    <th>0.975]</th>  \n",
       "</tr>\n",
       "<tr>\n",
       "  <th>ContractRenewal</th> <td>   -0.5545</td> <td>    0.043</td> <td>  -12.763</td> <td> 0.000</td> <td>   -0.640</td> <td>   -0.469</td>\n",
       "</tr>\n",
       "<tr>\n",
       "  <th>DataPlan</th>        <td>   -0.3621</td> <td>    0.066</td> <td>   -5.484</td> <td> 0.000</td> <td>   -0.492</td> <td>   -0.233</td>\n",
       "</tr>\n",
       "<tr>\n",
       "  <th>CustServCalls</th>   <td>    0.6891</td> <td>    0.052</td> <td>   13.160</td> <td> 0.000</td> <td>    0.586</td> <td>    0.792</td>\n",
       "</tr>\n",
       "<tr>\n",
       "  <th>DayMins</th>         <td>    0.6496</td> <td>    0.060</td> <td>   10.878</td> <td> 0.000</td> <td>    0.533</td> <td>    0.767</td>\n",
       "</tr>\n",
       "<tr>\n",
       "  <th>OverageFee</th>      <td>    0.3311</td> <td>    0.059</td> <td>    5.620</td> <td> 0.000</td> <td>    0.216</td> <td>    0.447</td>\n",
       "</tr>\n",
       "<tr>\n",
       "  <th>RoamMins</th>        <td>    0.1924</td> <td>    0.058</td> <td>    3.301</td> <td> 0.001</td> <td>    0.078</td> <td>    0.307</td>\n",
       "</tr>\n",
       "<tr>\n",
       "  <th>const</th>           <td>   -2.2869</td> <td>    0.071</td> <td>  -32.042</td> <td> 0.000</td> <td>   -2.427</td> <td>   -2.147</td>\n",
       "</tr>\n",
       "</table>"
      ],
      "text/plain": [
       "<class 'statsmodels.iolib.summary.Summary'>\n",
       "\"\"\"\n",
       "                           Logit Regression Results                           \n",
       "==============================================================================\n",
       "Dep. Variable:                  Churn   No. Observations:                 3158\n",
       "Model:                          Logit   Df Residuals:                     3151\n",
       "Method:                           MLE   Df Model:                            6\n",
       "Date:                Sat, 25 Jan 2020   Pseudo R-squ.:                  0.1921\n",
       "Time:                        23:42:31   Log-Likelihood:                -1031.6\n",
       "converged:                       True   LL-Null:                       -1276.8\n",
       "Covariance Type:            nonrobust   LLR p-value:                9.247e-103\n",
       "===================================================================================\n",
       "                      coef    std err          z      P>|z|      [0.025      0.975]\n",
       "-----------------------------------------------------------------------------------\n",
       "ContractRenewal    -0.5545      0.043    -12.763      0.000      -0.640      -0.469\n",
       "DataPlan           -0.3621      0.066     -5.484      0.000      -0.492      -0.233\n",
       "CustServCalls       0.6891      0.052     13.160      0.000       0.586       0.792\n",
       "DayMins             0.6496      0.060     10.878      0.000       0.533       0.767\n",
       "OverageFee          0.3311      0.059      5.620      0.000       0.216       0.447\n",
       "RoamMins            0.1924      0.058      3.301      0.001       0.078       0.307\n",
       "const              -2.2869      0.071    -32.042      0.000      -2.427      -2.147\n",
       "===================================================================================\n",
       "\"\"\""
      ]
     },
     "execution_count": 43,
     "metadata": {},
     "output_type": "execute_result"
    }
   ],
   "source": [
    "# Dropping insignificant variables\n",
    "X = dfo_scaled.drop(['Churn','MonthlyCharge', 'DataUsage', 'DayCalls', 'AccountWeeks'],axis=1)\n",
    "y = dfo_scaled['Churn']\n",
    "X = X.assign(const=1)\n",
    "\n",
    "import statsmodels.api as sm\n",
    "logit = sm.Logit(y,X).fit()\n",
    "\n",
    "logit.summary()"
   ]
  },
  {
   "cell_type": "code",
   "execution_count": 44,
   "metadata": {},
   "outputs": [
    {
     "data": {
      "text/html": [
       "<div>\n",
       "<style scoped>\n",
       "    .dataframe tbody tr th:only-of-type {\n",
       "        vertical-align: middle;\n",
       "    }\n",
       "\n",
       "    .dataframe tbody tr th {\n",
       "        vertical-align: top;\n",
       "    }\n",
       "\n",
       "    .dataframe thead th {\n",
       "        text-align: right;\n",
       "    }\n",
       "</style>\n",
       "<table border=\"1\" class=\"dataframe\">\n",
       "  <thead>\n",
       "    <tr style=\"text-align: right;\">\n",
       "      <th></th>\n",
       "      <th>vif</th>\n",
       "    </tr>\n",
       "  </thead>\n",
       "  <tbody>\n",
       "    <tr>\n",
       "      <th>ContractRenewal</th>\n",
       "      <td>1.003248</td>\n",
       "    </tr>\n",
       "    <tr>\n",
       "      <th>DataPlan</th>\n",
       "      <td>1.001362</td>\n",
       "    </tr>\n",
       "    <tr>\n",
       "      <th>CustServCalls</th>\n",
       "      <td>1.002047</td>\n",
       "    </tr>\n",
       "    <tr>\n",
       "      <th>DayMins</th>\n",
       "      <td>1.003349</td>\n",
       "    </tr>\n",
       "    <tr>\n",
       "      <th>OverageFee</th>\n",
       "      <td>1.001544</td>\n",
       "    </tr>\n",
       "    <tr>\n",
       "      <th>RoamMins</th>\n",
       "      <td>1.003761</td>\n",
       "    </tr>\n",
       "    <tr>\n",
       "      <th>const</th>\n",
       "      <td>1.000000</td>\n",
       "    </tr>\n",
       "  </tbody>\n",
       "</table>\n",
       "</div>"
      ],
      "text/plain": [
       "                      vif\n",
       "ContractRenewal  1.003248\n",
       "DataPlan         1.001362\n",
       "CustServCalls    1.002047\n",
       "DayMins          1.003349\n",
       "OverageFee       1.001544\n",
       "RoamMins         1.003761\n",
       "const            1.000000"
      ]
     },
     "execution_count": 44,
     "metadata": {},
     "output_type": "execute_result"
    }
   ],
   "source": [
    "# Check for multi-collinearity\n",
    "\n",
    "from statsmodels.stats.outliers_influence import variance_inflation_factor\n",
    "vif = [variance_inflation_factor(X.values, i) for i in range(X.shape[1])]\n",
    "pd.DataFrame({'vif':vif}, index=X.columns)"
   ]
  },
  {
   "cell_type": "code",
   "execution_count": 45,
   "metadata": {
    "scrolled": true
   },
   "outputs": [
    {
     "data": {
      "text/plain": [
       "ContractRenewal   -0.554490\n",
       "DataPlan          -0.362122\n",
       "CustServCalls      0.689060\n",
       "DayMins            0.649594\n",
       "OverageFee         0.331055\n",
       "RoamMins           0.192367\n",
       "const             -2.286946\n",
       "dtype: float64"
      ]
     },
     "execution_count": 45,
     "metadata": {},
     "output_type": "execute_result"
    }
   ],
   "source": [
    "logit.params"
   ]
  },
  {
   "cell_type": "markdown",
   "metadata": {},
   "source": [
    "**Interpretation:**\n",
    "\n",
    "All coef. are significant.\n",
    "\n",
    "As ContractRenewal & DataPlan increases Churn decreases.\n",
    "\n",
    "As CustServCalls, DayMins, OverageFee, RoamMins increases Churn increases.\n",
    "\n",
    "**Log of Odds**\n",
    "\n",
    "As ContractRenewal increases by 1, Log(Odds) of Churn decreases by 0.55\n",
    "\n",
    "As DataPlan increases by 1, Log(Odds) of Churn decreases by 0.36\n",
    "\n",
    "As CustServCalls increases by 1, Log(Odds) of Churn increases by 0.68\n",
    "\n",
    "As DayMins increases by 1, Log(Odds) of Churn increases by 0.64\n",
    "\n",
    "As OverageFee increases by 1, Log(Odds) of Churn increases by 0.33\n",
    "\n",
    "As RoamMins increases by 1, Log(Odds) of Churn increases by 0.19"
   ]
  },
  {
   "cell_type": "code",
   "execution_count": 46,
   "metadata": {},
   "outputs": [
    {
     "data": {
      "text/plain": [
       "ContractRenewal     2.644992e-37\n",
       "DataPlan            4.153322e-08\n",
       "CustServCalls       1.491938e-39\n",
       "DayMins             1.470870e-27\n",
       "OverageFee          1.911541e-08\n",
       "RoamMins            9.645010e-04\n",
       "const              2.807777e-225\n",
       "dtype: float64"
      ]
     },
     "execution_count": 46,
     "metadata": {},
     "output_type": "execute_result"
    }
   ],
   "source": [
    "logit.pvalues"
   ]
  },
  {
   "cell_type": "code",
   "execution_count": 47,
   "metadata": {},
   "outputs": [
    {
     "data": {
      "text/plain": [
       "ContractRenewal    0.574365\n",
       "DataPlan           0.696197\n",
       "CustServCalls      1.991843\n",
       "DayMins            1.914764\n",
       "OverageFee         1.392437\n",
       "RoamMins           1.212115\n",
       "const              0.101576\n",
       "dtype: float64"
      ]
     },
     "execution_count": 47,
     "metadata": {},
     "output_type": "execute_result"
    }
   ],
   "source": [
    "np.exp(logit.params)"
   ]
  },
  {
   "cell_type": "markdown",
   "metadata": {},
   "source": [
    "**Inference:**\n",
    "\n",
    "**Exponential of Odds**\n",
    "\n",
    "As ContractRenewal increases by 1, Log(Odds) of Churn decreases by 0.55 = (1 - 0.574365)(Appx.)\n",
    "\n",
    "As DataPlan increases by 1, Log(Odds) of Churn decreases by 0.36 = (1 - 0.696197)(Appx.)\n",
    "\n",
    "As CustServCalls increases by 1, Log(Odds) of Churn increases by 0.68 = (1 - 1.991843)(Appx.)\n",
    "\n",
    "As DayMins increases by 1, Log(Odds) of Churn increases by 0.64 = (1 - 1.914764)(Appx.)\n",
    "\n",
    "As OverageFee increases by 1, Log(Odds) of Churn increases by 0.33 = (1 - 1.392437)(Appx.)\n",
    "\n",
    "As RoamMins increases by 1, Log(Odds) of Churn increases by 0.19 = (1 - 1.212115)(Appx.)"
   ]
  },
  {
   "cell_type": "code",
   "execution_count": 48,
   "metadata": {},
   "outputs": [
    {
     "name": "stdout",
     "output_type": "stream",
     "text": [
      "\u001b[1m Confusion Matrix: \u001b[0m\n",
      " [[2655   62]\n",
      " [ 370   71]]\n",
      "\n",
      " \u001b[1m Classification Report:\u001b[0m\n",
      "               precision    recall  f1-score   support\n",
      "\n",
      "           0       0.88      0.98      0.92      2717\n",
      "           1       0.53      0.16      0.25       441\n",
      "\n",
      "    accuracy                           0.86      3158\n",
      "   macro avg       0.71      0.57      0.59      3158\n",
      "weighted avg       0.83      0.86      0.83      3158\n",
      "\n",
      "\n",
      " \u001b[1m Predicted values for 1 & 0: \u001b[0m\n",
      " 0    3025\n",
      "1     133\n",
      "dtype: int64\n"
     ]
    }
   ],
   "source": [
    "from sklearn.metrics import classification_report, confusion_matrix\n",
    "\n",
    "y_prob = logit.predict(X)\n",
    "\n",
    "y_pred = y_prob.apply(lambda x: 0 if x<0.5 else 1)\n",
    "print('\\033[1m Confusion Matrix: \\033[0m\\n',confusion_matrix(y, y_pred))\n",
    "print('\\n \\033[1m Classification Report:\\033[0m\\n',classification_report(y,y_pred))\n",
    "print('\\n \\033[1m Predicted values for 1 & 0: \\033[0m\\n', y_pred.value_counts())"
   ]
  },
  {
   "cell_type": "code",
   "execution_count": 49,
   "metadata": {},
   "outputs": [
    {
     "name": "stdout",
     "output_type": "stream",
     "text": [
      "Accuracy of Logistic Regression: 0.863204559848005\n"
     ]
    }
   ],
   "source": [
    "from sklearn.metrics import accuracy_score\n",
    "print(\"Accuracy of Logistic Regression:\",accuracy_score(y, y_pred))"
   ]
  },
  {
   "cell_type": "markdown",
   "metadata": {},
   "source": [
    "#### Train-Test Split"
   ]
  },
  {
   "cell_type": "code",
   "execution_count": 50,
   "metadata": {},
   "outputs": [],
   "source": [
    "#Splitting the data\n",
    "X = dfo_scaled.drop('Churn',1)\n",
    "y = dfo_scaled['Churn']\n",
    "\n",
    "from sklearn.model_selection import train_test_split\n",
    "X_train,X_test,y_train,y_test=train_test_split(X,y,test_size=0.3, random_state=1)"
   ]
  },
  {
   "cell_type": "markdown",
   "metadata": {},
   "source": [
    "#### Handling inbalanced data"
   ]
  },
  {
   "cell_type": "code",
   "execution_count": 51,
   "metadata": {},
   "outputs": [],
   "source": [
    "# Using Oversampling Technique, for handling imbalanced data\n",
    "Xy_train = pd.concat([X_train,y_train], axis=1)\n",
    "\n",
    "\n",
    "Xy_train0 = Xy_train.loc[Xy_train['Churn'] == 0]\n",
    "Xy_train1 = Xy_train.loc[Xy_train['Churn'] == 1]\n",
    "\n",
    "\n",
    "len1= len(Xy_train1)\n",
    "\n",
    "len0= len(Xy_train0)\n",
    "\n",
    "\n",
    "Xy_train1_os= Xy_train1.sample(len1, replace=True)\n",
    "\n",
    "Xy_train_os = pd.concat([Xy_train1_os, Xy_train0],axis=0)\n",
    "\n",
    "y_train_os = Xy_train_os['Churn']\n",
    "X_train_os = Xy_train_os.drop('Churn',axis=1)\n"
   ]
  },
  {
   "cell_type": "markdown",
   "metadata": {},
   "source": [
    "### Model Building (ML)"
   ]
  },
  {
   "cell_type": "markdown",
   "metadata": {},
   "source": [
    "**Logistic Regression**"
   ]
  },
  {
   "cell_type": "code",
   "execution_count": 52,
   "metadata": {},
   "outputs": [
    {
     "name": "stdout",
     "output_type": "stream",
     "text": [
      "Accuracy of Logistic Regression_oversampling on Train: 0.8588235294117647\n",
      "Accuracy of Logistic Regression_Oversampling on Test: 0.869198312236287\n"
     ]
    }
   ],
   "source": [
    "# Logistic Regression\n",
    "\n",
    "X_train = X_train_os\n",
    "y_train =  y_train_os\n",
    "\n",
    "from sklearn.linear_model import LogisticRegression\n",
    "\n",
    "logreg = LogisticRegression(solver='liblinear',fit_intercept=True)\n",
    "logreg.fit(X_train,y_train)\n",
    "\n",
    "y_prob_train = logreg.predict_proba(X_train)[:,1]\n",
    "y_pred_train = logreg.predict (X_train)\n",
    "\n",
    "\n",
    "y_prob = logreg.predict_proba(X_test)[:,1]\n",
    "y_pred = logreg.predict(X_test)\n",
    "\n",
    "from sklearn.metrics import accuracy_score\n",
    "from sklearn.metrics import precision_score\n",
    "from sklearn.metrics import recall_score\n",
    "\n",
    "print(\"Accuracy of Logistic Regression_oversampling on Train:\",accuracy_score(y_train, y_pred_train))\n",
    "print(\"Accuracy of Logistic Regression_Oversampling on Test:\",accuracy_score(y_test, y_pred))\n",
    "Logistic_Regression_Accuracy_Train_Oversampling = accuracy_score(y_train, y_pred_train)\n",
    "Logistic_Regression_Accuracy_Test_Oversampling = accuracy_score(y_test, y_pred)\n"
   ]
  },
  {
   "cell_type": "code",
   "execution_count": 53,
   "metadata": {},
   "outputs": [
    {
     "name": "stdout",
     "output_type": "stream",
     "text": [
      "AUC of Train 0.7997477056020592\n"
     ]
    },
    {
     "data": {
      "image/png": "[encoded data removed]",
      "text/plain": [
       "<Figure size 432x288 with 1 Axes>"
      ]
     },
     "metadata": {
      "needs_background": "light"
     },
     "output_type": "display_data"
    }
   ],
   "source": [
    "# Reciever Operating Charecteristic Curve\n",
    "from sklearn.metrics import roc_auc_score, roc_curve\n",
    "\n",
    "print('AUC of Train',roc_auc_score(y_train, y_prob_train))\n",
    "\n",
    "fpr, tpr, thresholds = roc_curve(y_train, y_prob_train)\n",
    "\n",
    "plt.plot(fpr, tpr)\n",
    "plt.plot(fpr, fpr, 'r-')\n",
    "plt.xlabel('FPR')\n",
    "plt.ylabel(\"TPR\")\n",
    "plt.title('ROC of Train Data')\n",
    "plt.show()"
   ]
  },
  {
   "cell_type": "code",
   "execution_count": 54,
   "metadata": {},
   "outputs": [
    {
     "name": "stdout",
     "output_type": "stream",
     "text": [
      "AUC of Test 0.8225638740344624\n"
     ]
    },
    {
     "data": {
      "image/png": "[encoded data removed]",
      "text/plain": [
       "<Figure size 432x288 with 1 Axes>"
      ]
     },
     "metadata": {
      "needs_background": "light"
     },
     "output_type": "display_data"
    }
   ],
   "source": [
    "from sklearn.metrics import roc_auc_score, roc_curve\n",
    "\n",
    "print('AUC of Test',roc_auc_score(y_test, y_prob))\n",
    "\n",
    "fpr, tpr, thresholds = roc_curve(y_test, y_prob)\n",
    "\n",
    "plt.plot(fpr, tpr)\n",
    "plt.plot(fpr, fpr, 'r-')\n",
    "plt.xlabel('FPR')\n",
    "plt.ylabel(\"TPR\")\n",
    "plt.title('ROC of Test Data')\n",
    "plt.show()"
   ]
  },
  {
   "cell_type": "markdown",
   "metadata": {},
   "source": [
    "**Random Forest Classifier**"
   ]
  },
  {
   "cell_type": "code",
   "execution_count": 56,
   "metadata": {},
   "outputs": [
    {
     "name": "stdout",
     "output_type": "stream",
     "text": [
      "Accuracy of Random Forest_Oversampling - Train 0.995475113122172\n",
      "Accuracy of Random Forestversampling_Oversampling - Test 0.9388185654008439\n"
     ]
    }
   ],
   "source": [
    "X_train = X_train_os\n",
    "y_train =  y_train_os\n",
    "\n",
    "from sklearn.ensemble import RandomForestClassifier\n",
    "\n",
    "rfc = RandomForestClassifier(n_estimators=10, random_state=1)\n",
    "\n",
    "rfc.fit(X_train,y_train)\n",
    "\n",
    "y_pred_train = rfc.predict(X_train)\n",
    "y_prob_train = rfc.predict_proba(X_train)[:,1]\n",
    "\n",
    "y_pred = rfc.predict(X_test)\n",
    "y_prob = rfc.predict_proba(X_test)[:,1]\n",
    "\n",
    "from sklearn.metrics import accuracy_score\n",
    "\n",
    "print('Accuracy of Random Forest_Oversampling - Train', accuracy_score(y_pred_train,y_train))\n",
    "print('Accuracy of Random Forestversampling_Oversampling - Test', accuracy_score(y_pred,y_test))\n",
    "Random_Forest_Accuracy_Train_Oversampling = accuracy_score(y_pred_train,y_train)\n",
    "Random_Forest_Accuracy_Test_Oversampling = accuracy_score(y_pred,y_test)"
   ]
  },
  {
   "cell_type": "markdown",
   "metadata": {},
   "source": [
    "**Support Vector Machine**"
   ]
  },
  {
   "cell_type": "code",
   "execution_count": 58,
   "metadata": {},
   "outputs": [
    {
     "name": "stdout",
     "output_type": "stream",
     "text": [
      "Accuracy of SVM Train_Oversampling:  0.9819004524886877\n",
      "Accuracy of SVM Test_Oversampling:  0.8713080168776371\n"
     ]
    }
   ],
   "source": [
    "X_train = X_train_os\n",
    "y_train =  y_train_os\n",
    "\n",
    "from sklearn.svm import SVC\n",
    "svc = SVC(gamma =1, probability =True, random_state=1)\n",
    "\n",
    "svc.fit(X_train, y_train)\n",
    "\n",
    "y_pred_train=svc.predict(X_train)\n",
    "y_prob_train=svc.predict_proba(X_train)[:,1]\n",
    "    \n",
    "y_pred=svc.predict(X_test)\n",
    "y_prob=svc.predict_proba(X_test)[:,1]\n",
    "\n",
    "from sklearn.metrics import accuracy_score\n",
    "\n",
    "print('Accuracy of SVM Train_Oversampling: ',accuracy_score(y_pred_train, y_train) )\n",
    "print('Accuracy of SVM Test_Oversampling: ',accuracy_score(y_pred, y_test) )\n",
    "SVM_Accuracy_Train_Oversampling = accuracy_score(y_pred_train, y_train) \n",
    "SVM_Accuracy_Test_Oversampling = accuracy_score(y_pred, y_test) \n"
   ]
  },
  {
   "cell_type": "markdown",
   "metadata": {},
   "source": [
    "**LightGBM**"
   ]
  },
  {
   "cell_type": "code",
   "execution_count": 59,
   "metadata": {},
   "outputs": [
    {
     "name": "stdout",
     "output_type": "stream",
     "text": [
      "Accuracy of LGBM_Oversampling - Train 1.0\n",
      "Accuracy of LGBM_Oversampling - Test 0.9409282700421941\n"
     ]
    }
   ],
   "source": [
    "X_train = X_train_os\n",
    "y_train =  y_train_os\n",
    "\n",
    "import lightgbm as lgb\n",
    "lgbc = lgb.LGBMClassifier(random_state=1)\n",
    "\n",
    "lgbc.fit(X_train,y_train)\n",
    "\n",
    "y_pred_train = lgbc.predict(X_train)\n",
    "y_prob_train = lgbc.predict_proba(X_train)[:,1]\n",
    "\n",
    "y_pred = lgbc.predict(X_test)\n",
    "y_prob = lgbc.predict_proba(X_test)[:,1]\n",
    "\n",
    "from sklearn.metrics import accuracy_score\n",
    "\n",
    "print('Accuracy of LGBM_Oversampling - Train', accuracy_score(y_pred_train,y_train))\n",
    "print('Accuracy of LGBM_Oversampling - Test', accuracy_score(y_pred,y_test))\n",
    "LGBM_Accuracy_Train_Oversampling = accuracy_score(y_pred_train,y_train)\n",
    "LGBM_Accuracy_Test_Oversampling = accuracy_score(y_pred,y_test)\n"
   ]
  },
  {
   "cell_type": "markdown",
   "metadata": {},
   "source": [
    "**Comparing the accuracy of all the above Algorithms**"
   ]
  },
  {
   "cell_type": "code",
   "execution_count": 60,
   "metadata": {},
   "outputs": [
    {
     "name": "stdout",
     "output_type": "stream",
     "text": [
      "\u001b[1m Logistic Regression:\u001b[0m\n",
      "\n",
      "Logistic_Regression_Accuracy_Train_Oversampling 0.8588235294117647\n",
      "Logistic_Regression_Accuracy_Test_Oversampling 0.869198312236287\n",
      "\n",
      "\u001b[1m Random Forest:\u001b[0m\n",
      "\n",
      "Random_Forest_Accuracy_Train_Oversampling 0.995475113122172\n",
      "Random_Forest_Accuracy_Test_Oversampling 0.9388185654008439\n",
      "\n",
      "\u001b[1m Support Vector Machine:\u001b[0m\n",
      "\n",
      "SVM_Accuracy_Train_Oversampling 0.9819004524886877\n",
      "SVM_Accuracy_Test_Oversampling 0.8713080168776371\n",
      "\n",
      "\u001b[1m LightGBM:\u001b[0m\n",
      "\n",
      "LGBM_Accuracy_Train_Oversampling 1.0\n",
      "LGBM_Accuracy_Test_Oversampling 0.9409282700421941\n"
     ]
    }
   ],
   "source": [
    "# Comparing all the Algorithms\n",
    "\n",
    "print('\\033[1m Logistic Regression:\\033[0m')\n",
    "print('\\nLogistic_Regression_Accuracy_Train_Oversampling',Logistic_Regression_Accuracy_Train_Oversampling)\n",
    "print('Logistic_Regression_Accuracy_Test_Oversampling',Logistic_Regression_Accuracy_Test_Oversampling)\n",
    "\n",
    "print('\\n\\033[1m Random Forest:\\033[0m')\n",
    "print('\\nRandom_Forest_Accuracy_Train_Oversampling',Random_Forest_Accuracy_Train_Oversampling)\n",
    "print('Random_Forest_Accuracy_Test_Oversampling',Random_Forest_Accuracy_Test_Oversampling)\n",
    "\n",
    "print('\\n\\033[1m Support Vector Machine:\\033[0m')\n",
    "print('\\nSVM_Accuracy_Train_Oversampling',SVM_Accuracy_Train_Oversampling)\n",
    "print('SVM_Accuracy_Test_Oversampling',SVM_Accuracy_Test_Oversampling)\n",
    "\n",
    "print('\\n\\033[1m LightGBM:\\033[0m')\n",
    "print('\\nLGBM_Accuracy_Train_Oversampling',LGBM_Accuracy_Train_Oversampling)\n",
    "print('LGBM_Accuracy_Test_Oversampling',LGBM_Accuracy_Test_Oversampling)\n"
   ]
  },
  {
   "cell_type": "markdown",
   "metadata": {},
   "source": [
    "**Best accuracy is given by Random Forest & LightGBM Algo's.**"
   ]
  }
 ],
 "metadata": {
  "kernelspec": {
   "display_name": "Python 3",
   "language": "python",
   "name": "python3"
  },
  "language_info": {
   "codemirror_mode": {
    "name": "ipython",
    "version": 3
   },
   "file_extension": ".py",
   "mimetype": "text/x-python",
   "name": "python",
   "nbconvert_exporter": "python",
   "pygments_lexer": "ipython3",
   "version": "3.7.3"
  }
 },
 "nbformat": 4,
 "nbformat_minor": 2
}
